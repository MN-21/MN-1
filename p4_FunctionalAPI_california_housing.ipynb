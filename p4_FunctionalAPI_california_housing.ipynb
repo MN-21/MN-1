{
  "nbformat": 4,
  "nbformat_minor": 0,
  "metadata": {
    "colab": {
      "name": "p4.FunctionalAPI.california_housing.ipynb",
      "private_outputs": true,
      "provenance": [],
      "collapsed_sections": [],
      "authorship_tag": "ABX9TyPHz8p3W6bLzd/nlKzujgOf",
      "include_colab_link": true
    },
    "kernelspec": {
      "name": "python3",
      "display_name": "Python 3"
    },
    "language_info": {
      "name": "python"
    }
  },
  "cells": [
    {
      "cell_type": "markdown",
      "metadata": {
        "id": "view-in-github",
        "colab_type": "text"
      },
      "source": [
        "<a href=\"https://colab.research.google.com/github/MN-21/1/blob/main/p4_FunctionalAPI_california_housing.ipynb\" target=\"_parent\"><img src=\"https://colab.research.google.com/assets/colab-badge.svg\" alt=\"Open In Colab\"/></a>"
      ]
    },
    {
      "cell_type": "markdown",
      "source": [
        "Median house prices for California districts derived from the 1990 census."
      ],
      "metadata": {
        "id": "U1zu3A5kWQvU"
      }
    },
    {
      "cell_type": "code",
      "metadata": {
        "id": "hRO17eJpBpdq"
      },
      "source": [
        "from __future__ import print_function\n",
        "import numpy as np \n",
        "import pandas as pd\n",
        "import matplotlib.pyplot as plt\n",
        "%matplotlib inline\n",
        "\n",
        "from sklearn.model_selection import train_test_split\n",
        "from sklearn.preprocessing import StandardScaler\n",
        "\n",
        "import tensorflow as tf\n",
        "from tensorflow import keras\n",
        "from keras.models import sequential\n",
        "from keras.layers import Dense, Dropout, Activation, Flatten, BatchNormalization\n",
        "from keras import regularizers\n",
        "\n",
        "from sklearn.datasets import fetch_california_housing\n",
        "from sklearn.model_selection import train_test_split\n",
        "from sklearn.preprocessing import StandardScaler\n",
        "\n",
        "import pandas as pd\n",
        "import os"
      ],
      "execution_count": null,
      "outputs": []
    },
    {
      "cell_type": "code",
      "metadata": {
        "id": "8KoFiN3xB_Xl"
      },
      "source": [
        "np.random.seed(21)\n",
        "tf.random.set_seed(21)"
      ],
      "execution_count": null,
      "outputs": []
    },
    {
      "cell_type": "code",
      "metadata": {
        "id": "apc8aIkbCTdP"
      },
      "source": [
        "housing=fetch_california_housing()\n",
        "x_train, x_test, y_train, y_test=train_test_split(housing.data, housing.target,\n",
        "                                                        test_size=0.2, random_state=21 )\n"
      ],
      "execution_count": null,
      "outputs": []
    },
    {
      "cell_type": "code",
      "metadata": {
        "id": "ssiF-7epDUpx"
      },
      "source": [
        "housing.keys()"
      ],
      "execution_count": null,
      "outputs": []
    },
    {
      "cell_type": "code",
      "metadata": {
        "id": "YCcD6nesDQwq"
      },
      "source": [
        "df=pd.DataFrame(housing.data, columns=housing.feature_names)\n",
        "df.head(2)"
      ],
      "execution_count": null,
      "outputs": []
    },
    {
      "cell_type": "code",
      "metadata": {
        "id": "G4PBGJzmD42D"
      },
      "source": [
        "x_train.shape, x_test.shape"
      ],
      "execution_count": null,
      "outputs": []
    },
    {
      "cell_type": "code",
      "metadata": {
        "id": "bDiAuVyOV-fM"
      },
      "source": [
        "scaler=StandardScaler()\n",
        "x_train=scaler.fit_transform(x_train)\n",
        "x_test=scaler.transform(x_test)"
      ],
      "execution_count": null,
      "outputs": []
    },
    {
      "cell_type": "code",
      "metadata": {
        "id": "fzIWXwQfD-vv"
      },
      "source": [
        "input_a=keras.layers.Input(shape=[5]) #6 features from 0 to 4\n",
        "input_b=keras.layers.Input(shape=[6]) #5 features from 2 to 7\n",
        "\n",
        "hid1=keras.layers.Dense(30, activation='relu')(input_b)\n",
        "hid2=keras.layers.Dense(30, activation='relu')(hid1)\n",
        "\n",
        "concat=keras.layers.concatenate([input_a, hid2])\n",
        "output=keras.layers.Dense(1)(concat)\n",
        "\n",
        "model=keras.models.Model(inputs=[input_a, input_b], outputs=[output])"
      ],
      "execution_count": null,
      "outputs": []
    },
    {
      "cell_type": "code",
      "metadata": {
        "id": "H7UWsV8EInDW"
      },
      "source": [
        "keras.utils.plot_model(model,)"
      ],
      "execution_count": null,
      "outputs": []
    },
    {
      "cell_type": "code",
      "metadata": {
        "id": "kzipUJpEI8I3"
      },
      "source": [
        "model.summary()"
      ],
      "execution_count": null,
      "outputs": []
    },
    {
      "cell_type": "code",
      "metadata": {
        "id": "NrgwCge-JCgN"
      },
      "source": [
        "model.compile(loss=['mse','mse'],\n",
        "              loss_weights=[0.8,0.2],\n",
        "              optimizer='sgd')\n",
        "\n",
        "checkpoint=keras.callbacks.ModelCheckpoint('p4.FunctionalAPI.california_housing.h5',\n",
        "                                           save_best_only=True)\n",
        "\n",
        "early_stopping=keras.callbacks.EarlyStopping(monitor='val_loss', patience=4,\n",
        "                                             restore_best_weights=True)"
      ],
      "execution_count": null,
      "outputs": []
    },
    {
      "cell_type": "code",
      "metadata": {
        "id": "Cbysbh5pL_xD"
      },
      "source": [
        "x_train_a, x_train_b= x_train[:,:5], x_train[:,2:]\n",
        "x_test_a, x_test_b= x_test[:,:5], x_test[:,2:]\n",
        "\n",
        "x_new_a, x_new_b= x_test[:2,:5], x_test[:2,2:]"
      ],
      "execution_count": null,
      "outputs": []
    },
    {
      "cell_type": "code",
      "metadata": {
        "id": "H6oIk7jeNEo5"
      },
      "source": [
        "model.fit([x_train_a,x_train_b],[y_train, y_train],\n",
        "          epochs=15,\n",
        "          validation_split=0.2,\n",
        "          callbacks=[checkpoint, early_stopping])\n",
        "          "
      ],
      "execution_count": null,
      "outputs": []
    },
    {
      "cell_type": "code",
      "metadata": {
        "id": "URkaj__PXDCf"
      },
      "source": [
        "model.evaluate([x_test_a, x_test_b],y_test)"
      ],
      "execution_count": null,
      "outputs": []
    },
    {
      "cell_type": "code",
      "metadata": {
        "id": "7slclQjQXgVz"
      },
      "source": [
        "model.predict([x_new_a, x_new_b])"
      ],
      "execution_count": null,
      "outputs": []
    },
    {
      "cell_type": "markdown",
      "metadata": {
        "id": "mhp_GyoUX-SR"
      },
      "source": [
        "Adding an auxiliary output for regularization:"
      ]
    },
    {
      "cell_type": "code",
      "metadata": {
        "id": "Ir1DOQI1YBUi"
      },
      "source": [
        "input_A = keras.layers.Input(shape=[5], name=\"wide_input\")\n",
        "input_B = keras.layers.Input(shape=[6], name=\"deep_input\")\n",
        "\n",
        "hidden1 = keras.layers.Dense(30, activation=\"relu\")(input_B)\n",
        "hidden2 = keras.layers.Dense(30, activation=\"relu\")(hidden1)\n",
        "\n",
        "concat = keras.layers.concatenate([input_A, hidden2])\n",
        "output = keras.layers.Dense(1, name=\"main_output\")(concat)\n",
        "\n",
        "aux_output = keras.layers.Dense(1, name=\"aux_output\")(hidden2)\n",
        "\n",
        "model = keras.models.Model(inputs=[input_A, input_B],\n",
        "                           outputs=[output, aux_output])"
      ],
      "execution_count": null,
      "outputs": []
    },
    {
      "cell_type": "code",
      "metadata": {
        "id": "xtsVs3fJYj5K"
      },
      "source": [
        "keras.utils.plot_model(model)"
      ],
      "execution_count": null,
      "outputs": []
    },
    {
      "cell_type": "code",
      "metadata": {
        "id": "wd5o7JUKY2gT"
      },
      "source": [
        "model.compile(loss=[\"mse\", \"mse\"], loss_weights=[0.9, 0.1], optimizer='sgd')"
      ],
      "execution_count": null,
      "outputs": []
    },
    {
      "cell_type": "code",
      "metadata": {
        "id": "pQXTDXzcZA9r"
      },
      "source": [
        "model.fit([x_train_a, x_train_b], [y_train, y_train], \n",
        "          epochs=15,\n",
        "          validation_split=0.2)"
      ],
      "execution_count": null,
      "outputs": []
    },
    {
      "cell_type": "code",
      "metadata": {
        "id": "u-Oen39cZeKz"
      },
      "source": [
        "total_loss, main_loss, aux_loss=model.evaluate([x_test_a, x_test_b])\n",
        "total_loss, main_loss, aux_loss"
      ],
      "execution_count": null,
      "outputs": []
    },
    {
      "cell_type": "code",
      "metadata": {
        "id": "jchctymwaJuF"
      },
      "source": [
        "y_pred_main, y_pred_aux= model.predict([x_new_a, x_new_b])\n",
        "print('y_pred_main:', y_pred_main)\n",
        "print('y_pred_aux:', y_pred_aux)"
      ],
      "execution_count": null,
      "outputs": []
    }
  ]
}