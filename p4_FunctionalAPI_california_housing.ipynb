{
  "nbformat": 4,
  "nbformat_minor": 0,
  "metadata": {
    "colab": {
      "name": "p4.FunctionalAPI.california_housing.ipynb",
      "provenance": [],
      "collapsed_sections": [],
      "authorship_tag": "ABX9TyPHz8p3W6bLzd/nlKzujgOf",
      "include_colab_link": true
    },
    "kernelspec": {
      "name": "python3",
      "display_name": "Python 3"
    },
    "language_info": {
      "name": "python"
    }
  },
  "cells": [
    {
      "cell_type": "markdown",
      "metadata": {
        "id": "view-in-github",
        "colab_type": "text"
      },
      "source": [
        "<a href=\"https://colab.research.google.com/github/MN-21/1/blob/main/p4_FunctionalAPI_california_housing.ipynb\" target=\"_parent\"><img src=\"https://colab.research.google.com/assets/colab-badge.svg\" alt=\"Open In Colab\"/></a>"
      ]
    },
    {
      "cell_type": "markdown",
      "source": [
        "Median house prices for California districts derived from the 1990 census."
      ],
      "metadata": {
        "id": "U1zu3A5kWQvU"
      }
    },
    {
      "cell_type": "code",
      "metadata": {
        "id": "hRO17eJpBpdq"
      },
      "source": [
        "from __future__ import print_function\n",
        "import numpy as np \n",
        "import pandas as pd\n",
        "import matplotlib.pyplot as plt\n",
        "%matplotlib inline\n",
        "\n",
        "from sklearn.model_selection import train_test_split\n",
        "from sklearn.preprocessing import StandardScaler\n",
        "\n",
        "import tensorflow as tf\n",
        "from tensorflow import keras\n",
        "from keras.models import sequential\n",
        "from keras.layers import Dense, Dropout, Activation, Flatten, BatchNormalization\n",
        "from keras import regularizers\n",
        "\n",
        "from sklearn.datasets import fetch_california_housing\n",
        "from sklearn.model_selection import train_test_split\n",
        "from sklearn.preprocessing import StandardScaler\n",
        "\n",
        "import pandas as pd\n",
        "import os"
      ],
      "execution_count": 1,
      "outputs": []
    },
    {
      "cell_type": "code",
      "metadata": {
        "id": "8KoFiN3xB_Xl"
      },
      "source": [
        "np.random.seed(21)\n",
        "tf.random.set_seed(21)"
      ],
      "execution_count": 2,
      "outputs": []
    },
    {
      "cell_type": "code",
      "metadata": {
        "id": "apc8aIkbCTdP"
      },
      "source": [
        "housing=fetch_california_housing()\n",
        "x_train, x_test, y_train, y_test=train_test_split(housing.data, housing.target,\n",
        "                                                        test_size=0.2, random_state=21 )\n"
      ],
      "execution_count": 3,
      "outputs": []
    },
    {
      "cell_type": "code",
      "metadata": {
        "id": "ssiF-7epDUpx",
        "colab": {
          "base_uri": "https://localhost:8080/"
        },
        "outputId": "5fa0d04c-9fb3-4383-e176-9929a3fefbdf"
      },
      "source": [
        "housing.keys()"
      ],
      "execution_count": 4,
      "outputs": [
        {
          "output_type": "execute_result",
          "data": {
            "text/plain": [
              "dict_keys(['data', 'target', 'frame', 'target_names', 'feature_names', 'DESCR'])"
            ]
          },
          "metadata": {},
          "execution_count": 4
        }
      ]
    },
    {
      "cell_type": "code",
      "metadata": {
        "id": "YCcD6nesDQwq",
        "colab": {
          "base_uri": "https://localhost:8080/",
          "height": 112
        },
        "outputId": "e44cab0c-5284-4e57-90a5-1a1018f725bf"
      },
      "source": [
        "df=pd.DataFrame(housing.data, columns=housing.feature_names)\n",
        "df.head(2)"
      ],
      "execution_count": 5,
      "outputs": [
        {
          "output_type": "execute_result",
          "data": {
            "text/html": [
              "\n",
              "  <div id=\"df-860b0b49-c296-4c38-b2c8-410540e06395\">\n",
              "    <div class=\"colab-df-container\">\n",
              "      <div>\n",
              "<style scoped>\n",
              "    .dataframe tbody tr th:only-of-type {\n",
              "        vertical-align: middle;\n",
              "    }\n",
              "\n",
              "    .dataframe tbody tr th {\n",
              "        vertical-align: top;\n",
              "    }\n",
              "\n",
              "    .dataframe thead th {\n",
              "        text-align: right;\n",
              "    }\n",
              "</style>\n",
              "<table border=\"1\" class=\"dataframe\">\n",
              "  <thead>\n",
              "    <tr style=\"text-align: right;\">\n",
              "      <th></th>\n",
              "      <th>MedInc</th>\n",
              "      <th>HouseAge</th>\n",
              "      <th>AveRooms</th>\n",
              "      <th>AveBedrms</th>\n",
              "      <th>Population</th>\n",
              "      <th>AveOccup</th>\n",
              "      <th>Latitude</th>\n",
              "      <th>Longitude</th>\n",
              "    </tr>\n",
              "  </thead>\n",
              "  <tbody>\n",
              "    <tr>\n",
              "      <th>0</th>\n",
              "      <td>8.3252</td>\n",
              "      <td>41.0</td>\n",
              "      <td>6.984127</td>\n",
              "      <td>1.02381</td>\n",
              "      <td>322.0</td>\n",
              "      <td>2.555556</td>\n",
              "      <td>37.88</td>\n",
              "      <td>-122.23</td>\n",
              "    </tr>\n",
              "    <tr>\n",
              "      <th>1</th>\n",
              "      <td>8.3014</td>\n",
              "      <td>21.0</td>\n",
              "      <td>6.238137</td>\n",
              "      <td>0.97188</td>\n",
              "      <td>2401.0</td>\n",
              "      <td>2.109842</td>\n",
              "      <td>37.86</td>\n",
              "      <td>-122.22</td>\n",
              "    </tr>\n",
              "  </tbody>\n",
              "</table>\n",
              "</div>\n",
              "      <button class=\"colab-df-convert\" onclick=\"convertToInteractive('df-860b0b49-c296-4c38-b2c8-410540e06395')\"\n",
              "              title=\"Convert this dataframe to an interactive table.\"\n",
              "              style=\"display:none;\">\n",
              "        \n",
              "  <svg xmlns=\"http://www.w3.org/2000/svg\" height=\"24px\"viewBox=\"0 0 24 24\"\n",
              "       width=\"24px\">\n",
              "    <path d=\"M0 0h24v24H0V0z\" fill=\"none\"/>\n",
              "    <path d=\"M18.56 5.44l.94 2.06.94-2.06 2.06-.94-2.06-.94-.94-2.06-.94 2.06-2.06.94zm-11 1L8.5 8.5l.94-2.06 2.06-.94-2.06-.94L8.5 2.5l-.94 2.06-2.06.94zm10 10l.94 2.06.94-2.06 2.06-.94-2.06-.94-.94-2.06-.94 2.06-2.06.94z\"/><path d=\"M17.41 7.96l-1.37-1.37c-.4-.4-.92-.59-1.43-.59-.52 0-1.04.2-1.43.59L10.3 9.45l-7.72 7.72c-.78.78-.78 2.05 0 2.83L4 21.41c.39.39.9.59 1.41.59.51 0 1.02-.2 1.41-.59l7.78-7.78 2.81-2.81c.8-.78.8-2.07 0-2.86zM5.41 20L4 18.59l7.72-7.72 1.47 1.35L5.41 20z\"/>\n",
              "  </svg>\n",
              "      </button>\n",
              "      \n",
              "  <style>\n",
              "    .colab-df-container {\n",
              "      display:flex;\n",
              "      flex-wrap:wrap;\n",
              "      gap: 12px;\n",
              "    }\n",
              "\n",
              "    .colab-df-convert {\n",
              "      background-color: #E8F0FE;\n",
              "      border: none;\n",
              "      border-radius: 50%;\n",
              "      cursor: pointer;\n",
              "      display: none;\n",
              "      fill: #1967D2;\n",
              "      height: 32px;\n",
              "      padding: 0 0 0 0;\n",
              "      width: 32px;\n",
              "    }\n",
              "\n",
              "    .colab-df-convert:hover {\n",
              "      background-color: #E2EBFA;\n",
              "      box-shadow: 0px 1px 2px rgba(60, 64, 67, 0.3), 0px 1px 3px 1px rgba(60, 64, 67, 0.15);\n",
              "      fill: #174EA6;\n",
              "    }\n",
              "\n",
              "    [theme=dark] .colab-df-convert {\n",
              "      background-color: #3B4455;\n",
              "      fill: #D2E3FC;\n",
              "    }\n",
              "\n",
              "    [theme=dark] .colab-df-convert:hover {\n",
              "      background-color: #434B5C;\n",
              "      box-shadow: 0px 1px 3px 1px rgba(0, 0, 0, 0.15);\n",
              "      filter: drop-shadow(0px 1px 2px rgba(0, 0, 0, 0.3));\n",
              "      fill: #FFFFFF;\n",
              "    }\n",
              "  </style>\n",
              "\n",
              "      <script>\n",
              "        const buttonEl =\n",
              "          document.querySelector('#df-860b0b49-c296-4c38-b2c8-410540e06395 button.colab-df-convert');\n",
              "        buttonEl.style.display =\n",
              "          google.colab.kernel.accessAllowed ? 'block' : 'none';\n",
              "\n",
              "        async function convertToInteractive(key) {\n",
              "          const element = document.querySelector('#df-860b0b49-c296-4c38-b2c8-410540e06395');\n",
              "          const dataTable =\n",
              "            await google.colab.kernel.invokeFunction('convertToInteractive',\n",
              "                                                     [key], {});\n",
              "          if (!dataTable) return;\n",
              "\n",
              "          const docLinkHtml = 'Like what you see? Visit the ' +\n",
              "            '<a target=\"_blank\" href=https://colab.research.google.com/notebooks/data_table.ipynb>data table notebook</a>'\n",
              "            + ' to learn more about interactive tables.';\n",
              "          element.innerHTML = '';\n",
              "          dataTable['output_type'] = 'display_data';\n",
              "          await google.colab.output.renderOutput(dataTable, element);\n",
              "          const docLink = document.createElement('div');\n",
              "          docLink.innerHTML = docLinkHtml;\n",
              "          element.appendChild(docLink);\n",
              "        }\n",
              "      </script>\n",
              "    </div>\n",
              "  </div>\n",
              "  "
            ],
            "text/plain": [
              "   MedInc  HouseAge  AveRooms  ...  AveOccup  Latitude  Longitude\n",
              "0  8.3252      41.0  6.984127  ...  2.555556     37.88    -122.23\n",
              "1  8.3014      21.0  6.238137  ...  2.109842     37.86    -122.22\n",
              "\n",
              "[2 rows x 8 columns]"
            ]
          },
          "metadata": {},
          "execution_count": 5
        }
      ]
    },
    {
      "cell_type": "code",
      "metadata": {
        "id": "G4PBGJzmD42D",
        "colab": {
          "base_uri": "https://localhost:8080/"
        },
        "outputId": "58dfc468-62e2-4c22-8f8d-ba80d388bf83"
      },
      "source": [
        "x_train.shape, x_test.shape"
      ],
      "execution_count": 6,
      "outputs": [
        {
          "output_type": "execute_result",
          "data": {
            "text/plain": [
              "((16512, 8), (4128, 8))"
            ]
          },
          "metadata": {},
          "execution_count": 6
        }
      ]
    },
    {
      "cell_type": "code",
      "metadata": {
        "id": "bDiAuVyOV-fM"
      },
      "source": [
        "scaler=StandardScaler()\n",
        "x_train=scaler.fit_transform(x_train)\n",
        "x_test=scaler.transform(x_test)"
      ],
      "execution_count": 7,
      "outputs": []
    },
    {
      "cell_type": "code",
      "metadata": {
        "id": "fzIWXwQfD-vv"
      },
      "source": [
        "input_a=keras.layers.Input(shape=[5]) #6 features from 0 to 4\n",
        "input_b=keras.layers.Input(shape=[6]) #5 features from 2 to 7\n",
        "\n",
        "hid1=keras.layers.Dense(30, activation='relu')(input_b)\n",
        "hid2=keras.layers.Dense(30, activation='relu')(hid1)\n",
        "\n",
        "concat=keras.layers.concatenate([input_a, hid2])\n",
        "output=keras.layers.Dense(1)(concat)\n",
        "\n",
        "model=keras.models.Model(inputs=[input_a, input_b], outputs=[output])"
      ],
      "execution_count": 8,
      "outputs": []
    },
    {
      "cell_type": "code",
      "metadata": {
        "id": "H7UWsV8EInDW",
        "colab": {
          "base_uri": "https://localhost:8080/",
          "height": 466
        },
        "outputId": "3d4a7cd2-ab50-4324-93f2-6f297f1ebe61"
      },
      "source": [
        "keras.utils.plot_model(model,)"
      ],
      "execution_count": 9,
      "outputs": [
        {
          "output_type": "execute_result",
          "data": {
            "image/png": "[encoded data removed]",
            "text/plain": [
              "<IPython.core.display.Image object>"
            ]
          },
          "metadata": {},
          "execution_count": 9
        }
      ]
    },
    {
      "cell_type": "code",
      "metadata": {
        "id": "kzipUJpEI8I3",
        "colab": {
          "base_uri": "https://localhost:8080/"
        },
        "outputId": "eafe57dd-bc43-45b5-90ef-4aa5ee71e63c"
      },
      "source": [
        "model.summary()"
      ],
      "execution_count": 10,
      "outputs": [
        {
          "output_type": "stream",
          "name": "stdout",
          "text": [
            "Model: \"model\"\n",
            "__________________________________________________________________________________________________\n",
            " Layer (type)                   Output Shape         Param #     Connected to                     \n",
            "==================================================================================================\n",
            " input_2 (InputLayer)           [(None, 6)]          0           []                               \n",
            "                                                                                                  \n",
            " dense (Dense)                  (None, 30)           210         ['input_2[0][0]']                \n",
            "                                                                                                  \n",
            " input_1 (InputLayer)           [(None, 5)]          0           []                               \n",
            "                                                                                                  \n",
            " dense_1 (Dense)                (None, 30)           930         ['dense[0][0]']                  \n",
            "                                                                                                  \n",
            " concatenate (Concatenate)      (None, 35)           0           ['input_1[0][0]',                \n",
            "                                                                  'dense_1[0][0]']                \n",
            "                                                                                                  \n",
            " dense_2 (Dense)                (None, 1)            36          ['concatenate[0][0]']            \n",
            "                                                                                                  \n",
            "==================================================================================================\n",
            "Total params: 1,176\n",
            "Trainable params: 1,176\n",
            "Non-trainable params: 0\n",
            "__________________________________________________________________________________________________\n"
          ]
        }
      ]
    },
    {
      "cell_type": "code",
      "metadata": {
        "id": "NrgwCge-JCgN"
      },
      "source": [
        "model.compile(loss=['mse','mse'],\n",
        "              loss_weights=[0.8,0.2],\n",
        "              optimizer='sgd')\n",
        "\n",
        "checkpoint=keras.callbacks.ModelCheckpoint('p4.FunctionalAPI.california_housing.h5',\n",
        "                                           save_best_only=True)\n",
        "\n",
        "early_stopping=keras.callbacks.EarlyStopping(monitor='val_loss', patience=4,\n",
        "                                             restore_best_weights=True)"
      ],
      "execution_count": 11,
      "outputs": []
    },
    {
      "cell_type": "code",
      "metadata": {
        "id": "Cbysbh5pL_xD"
      },
      "source": [
        "x_train_a, x_train_b= x_train[:,:5], x_train[:,2:]\n",
        "x_test_a, x_test_b= x_test[:,:5], x_test[:,2:]\n",
        "\n",
        "x_new_a, x_new_b= x_test[:2,:5], x_test[:2,2:]"
      ],
      "execution_count": 12,
      "outputs": []
    },
    {
      "cell_type": "code",
      "metadata": {
        "id": "H6oIk7jeNEo5",
        "colab": {
          "base_uri": "https://localhost:8080/"
        },
        "outputId": "0aa02f55-5b25-4ad7-a1be-0c5867ef7425"
      },
      "source": [
        "model.fit([x_train_a,x_train_b],[y_train, y_train],\n",
        "          epochs=15,\n",
        "          validation_split=0.2,\n",
        "          callbacks=[checkpoint, early_stopping])\n",
        "          "
      ],
      "execution_count": 13,
      "outputs": [
        {
          "output_type": "stream",
          "name": "stdout",
          "text": [
            "Epoch 1/15\n",
            "413/413 [==============================] - 3s 5ms/step - loss: 0.7177 - val_loss: 0.4278\n",
            "Epoch 2/15\n",
            "413/413 [==============================] - 2s 4ms/step - loss: 0.4506 - val_loss: 0.3908\n",
            "Epoch 3/15\n",
            "413/413 [==============================] - 2s 5ms/step - loss: 0.4040 - val_loss: 0.3718\n",
            "Epoch 4/15\n",
            "413/413 [==============================] - 2s 4ms/step - loss: 0.3774 - val_loss: 0.3940\n",
            "Epoch 5/15\n",
            "413/413 [==============================] - 2s 5ms/step - loss: 0.3893 - val_loss: 0.3583\n",
            "Epoch 6/15\n",
            "413/413 [==============================] - 2s 5ms/step - loss: 0.3817 - val_loss: 0.3478\n",
            "Epoch 7/15\n",
            "413/413 [==============================] - 1s 2ms/step - loss: 0.3616 - val_loss: 0.3378\n",
            "Epoch 8/15\n",
            "413/413 [==============================] - 1s 2ms/step - loss: 0.4186 - val_loss: 0.3326\n",
            "Epoch 9/15\n",
            "413/413 [==============================] - 1s 2ms/step - loss: 0.3520 - val_loss: 0.3261\n",
            "Epoch 10/15\n",
            "413/413 [==============================] - 1s 2ms/step - loss: 0.3368 - val_loss: 0.3212\n",
            "Epoch 11/15\n",
            "413/413 [==============================] - 1s 2ms/step - loss: 0.3363 - val_loss: 0.3132\n",
            "Epoch 12/15\n",
            "413/413 [==============================] - 1s 2ms/step - loss: 0.3218 - val_loss: 0.3086\n",
            "Epoch 13/15\n",
            "413/413 [==============================] - 1s 2ms/step - loss: 0.3211 - val_loss: 0.3165\n",
            "Epoch 14/15\n",
            "413/413 [==============================] - 1s 2ms/step - loss: 0.3178 - val_loss: 0.3007\n",
            "Epoch 15/15\n",
            "413/413 [==============================] - 1s 2ms/step - loss: 0.3193 - val_loss: 0.2979\n"
          ]
        },
        {
          "output_type": "execute_result",
          "data": {
            "text/plain": [
              "<keras.callbacks.History at 0x7f23d4af9850>"
            ]
          },
          "metadata": {},
          "execution_count": 13
        }
      ]
    },
    {
      "cell_type": "code",
      "metadata": {
        "id": "URkaj__PXDCf",
        "colab": {
          "base_uri": "https://localhost:8080/"
        },
        "outputId": "438b5ebc-24b8-48fc-e77f-d3b0f8783bee"
      },
      "source": [
        "model.evaluate([x_test_a, x_test_b],y_test)"
      ],
      "execution_count": 14,
      "outputs": [
        {
          "output_type": "stream",
          "name": "stdout",
          "text": [
            "129/129 [==============================] - 0s 2ms/step - loss: 0.3124\n"
          ]
        },
        {
          "output_type": "execute_result",
          "data": {
            "text/plain": [
              "0.3123571574687958"
            ]
          },
          "metadata": {},
          "execution_count": 14
        }
      ]
    },
    {
      "cell_type": "code",
      "metadata": {
        "id": "7slclQjQXgVz",
        "colab": {
          "base_uri": "https://localhost:8080/"
        },
        "outputId": "249f8fc1-66eb-4264-d19a-95aa4b933b39"
      },
      "source": [
        "model.predict([x_new_a, x_new_b])"
      ],
      "execution_count": 15,
      "outputs": [
        {
          "output_type": "execute_result",
          "data": {
            "text/plain": [
              "array([[0.5860106],\n",
              "       [0.7864795]], dtype=float32)"
            ]
          },
          "metadata": {},
          "execution_count": 15
        }
      ]
    },
    {
      "cell_type": "markdown",
      "metadata": {
        "id": "mhp_GyoUX-SR"
      },
      "source": [
        "Adding an auxiliary output for regularization:"
      ]
    },
    {
      "cell_type": "code",
      "metadata": {
        "id": "Ir1DOQI1YBUi"
      },
      "source": [
        "input_A = keras.layers.Input(shape=[5], name=\"wide_input\")\n",
        "input_B = keras.layers.Input(shape=[6], name=\"deep_input\")\n",
        "\n",
        "hidden1 = keras.layers.Dense(30, activation=\"relu\")(input_B)\n",
        "hidden2 = keras.layers.Dense(30, activation=\"relu\")(hidden1)\n",
        "\n",
        "concat = keras.layers.concatenate([input_A, hidden2])\n",
        "output = keras.layers.Dense(1, name=\"main_output\")(concat)\n",
        "\n",
        "aux_output = keras.layers.Dense(1, name=\"aux_output\")(hidden2)\n",
        "\n",
        "model = keras.models.Model(inputs=[input_A, input_B],\n",
        "                           outputs=[output, aux_output])"
      ],
      "execution_count": 16,
      "outputs": []
    },
    {
      "cell_type": "code",
      "metadata": {
        "id": "xtsVs3fJYj5K",
        "colab": {
          "base_uri": "https://localhost:8080/",
          "height": 466
        },
        "outputId": "6c094c3d-03ee-4e7f-e1ec-93e715ae1596"
      },
      "source": [
        "keras.utils.plot_model(model)"
      ],
      "execution_count": 17,
      "outputs": [
        {
          "output_type": "execute_result",
          "data": {
            "image/png": "[encoded data removed]",
            "text/plain": [
              "<IPython.core.display.Image object>"
            ]
          },
          "metadata": {},
          "execution_count": 17
        }
      ]
    },
    {
      "cell_type": "code",
      "metadata": {
        "id": "wd5o7JUKY2gT"
      },
      "source": [
        "model.compile(loss=[\"mse\", \"mse\"], loss_weights=[0.9, 0.1], optimizer='sgd')"
      ],
      "execution_count": 18,
      "outputs": []
    },
    {
      "cell_type": "code",
      "metadata": {
        "id": "pQXTDXzcZA9r",
        "colab": {
          "base_uri": "https://localhost:8080/"
        },
        "outputId": "cc05836d-f160-4e37-c1aa-d190d0aa72ce"
      },
      "source": [
        "model.fit([x_train_a, x_train_b], [y_train, y_train], \n",
        "          epochs=15,\n",
        "          validation_split=0.2)"
      ],
      "execution_count": 19,
      "outputs": [
        {
          "output_type": "stream",
          "name": "stdout",
          "text": [
            "Epoch 1/15\n",
            "413/413 [==============================] - 2s 3ms/step - loss: 0.9134 - main_output_loss: 0.8312 - aux_output_loss: 1.6538 - val_loss: 0.5560 - val_main_output_loss: 0.4994 - val_aux_output_loss: 1.0652\n",
            "Epoch 2/15\n",
            "413/413 [==============================] - 1s 2ms/step - loss: 0.5678 - main_output_loss: 0.5236 - aux_output_loss: 0.9650 - val_loss: 0.5024 - val_main_output_loss: 0.4600 - val_aux_output_loss: 0.8841\n",
            "Epoch 3/15\n",
            "413/413 [==============================] - 1s 2ms/step - loss: 0.5198 - main_output_loss: 0.4853 - aux_output_loss: 0.8308 - val_loss: 0.4805 - val_main_output_loss: 0.4475 - val_aux_output_loss: 0.7779\n",
            "Epoch 4/15\n",
            "413/413 [==============================] - 1s 2ms/step - loss: 0.4909 - main_output_loss: 0.4620 - aux_output_loss: 0.7517 - val_loss: 0.4736 - val_main_output_loss: 0.4477 - val_aux_output_loss: 0.7071\n",
            "Epoch 5/15\n",
            "413/413 [==============================] - 1s 2ms/step - loss: 0.4787 - main_output_loss: 0.4543 - aux_output_loss: 0.6980 - val_loss: 0.4528 - val_main_output_loss: 0.4291 - val_aux_output_loss: 0.6655\n",
            "Epoch 6/15\n",
            "413/413 [==============================] - 1s 2ms/step - loss: 0.4782 - main_output_loss: 0.4576 - aux_output_loss: 0.6636 - val_loss: 0.4466 - val_main_output_loss: 0.4261 - val_aux_output_loss: 0.6315\n",
            "Epoch 7/15\n",
            "413/413 [==============================] - 1s 2ms/step - loss: 0.4556 - main_output_loss: 0.4352 - aux_output_loss: 0.6397 - val_loss: 0.4283 - val_main_output_loss: 0.4087 - val_aux_output_loss: 0.6047\n",
            "Epoch 8/15\n",
            "413/413 [==============================] - 1s 2ms/step - loss: 0.4677 - main_output_loss: 0.4512 - aux_output_loss: 0.6163 - val_loss: 0.4217 - val_main_output_loss: 0.4034 - val_aux_output_loss: 0.5863\n",
            "Epoch 9/15\n",
            "413/413 [==============================] - 1s 2ms/step - loss: 0.4405 - main_output_loss: 0.4224 - aux_output_loss: 0.6041 - val_loss: 0.4137 - val_main_output_loss: 0.3961 - val_aux_output_loss: 0.5722\n",
            "Epoch 10/15\n",
            "413/413 [==============================] - 1s 2ms/step - loss: 0.4303 - main_output_loss: 0.4127 - aux_output_loss: 0.5890 - val_loss: 0.4090 - val_main_output_loss: 0.3923 - val_aux_output_loss: 0.5590\n",
            "Epoch 11/15\n",
            "413/413 [==============================] - 1s 2ms/step - loss: 0.4232 - main_output_loss: 0.4064 - aux_output_loss: 0.5750 - val_loss: 0.4005 - val_main_output_loss: 0.3841 - val_aux_output_loss: 0.5481\n",
            "Epoch 12/15\n",
            "413/413 [==============================] - 1s 2ms/step - loss: 0.4146 - main_output_loss: 0.3976 - aux_output_loss: 0.5674 - val_loss: 0.3949 - val_main_output_loss: 0.3790 - val_aux_output_loss: 0.5380\n",
            "Epoch 13/15\n",
            "413/413 [==============================] - 1s 2ms/step - loss: 0.4098 - main_output_loss: 0.3939 - aux_output_loss: 0.5525 - val_loss: 0.3943 - val_main_output_loss: 0.3794 - val_aux_output_loss: 0.5283\n",
            "Epoch 14/15\n",
            "413/413 [==============================] - 1s 2ms/step - loss: 0.4050 - main_output_loss: 0.3898 - aux_output_loss: 0.5421 - val_loss: 0.3818 - val_main_output_loss: 0.3668 - val_aux_output_loss: 0.5168\n",
            "Epoch 15/15\n",
            "413/413 [==============================] - 1s 2ms/step - loss: 0.3932 - main_output_loss: 0.3782 - aux_output_loss: 0.5283 - val_loss: 0.3776 - val_main_output_loss: 0.3636 - val_aux_output_loss: 0.5031\n"
          ]
        },
        {
          "output_type": "execute_result",
          "data": {
            "text/plain": [
              "<keras.callbacks.History at 0x7f244f24a310>"
            ]
          },
          "metadata": {},
          "execution_count": 19
        }
      ]
    },
    {
      "cell_type": "code",
      "metadata": {
        "id": "u-Oen39cZeKz",
        "colab": {
          "base_uri": "https://localhost:8080/"
        },
        "outputId": "7ce221fb-193c-42a9-fc9f-ea77d8642906"
      },
      "source": [
        "total_loss, main_loss, aux_loss=model.evaluate([x_test_a, x_test_b])\n",
        "total_loss, main_loss, aux_loss"
      ],
      "execution_count": 20,
      "outputs": [
        {
          "output_type": "stream",
          "name": "stdout",
          "text": [
            "129/129 [==============================] - 0s 2ms/step - loss: 0.0000e+00 - main_output_loss: 0.0000e+00 - aux_output_loss: 0.0000e+00\n"
          ]
        },
        {
          "output_type": "execute_result",
          "data": {
            "text/plain": [
              "(0.0, 0.0, 0.0)"
            ]
          },
          "metadata": {},
          "execution_count": 20
        }
      ]
    },
    {
      "cell_type": "code",
      "metadata": {
        "id": "jchctymwaJuF",
        "colab": {
          "base_uri": "https://localhost:8080/"
        },
        "outputId": "b9812b72-d17e-455b-d145-bb574d7c171e"
      },
      "source": [
        "y_pred_main, y_pred_aux= model.predict([x_new_a, x_new_b])\n",
        "print('y_pred_main:', y_pred_main)\n",
        "print('y_pred_aux:', y_pred_aux)"
      ],
      "execution_count": 21,
      "outputs": [
        {
          "output_type": "stream",
          "name": "stdout",
          "text": [
            "y_pred_main: [[0.5774529]\n",
            " [0.7753042]]\n",
            "y_pred_aux: [[1.1281111]\n",
            " [1.0801555]]\n"
          ]
        }
      ]
    }
  ]
}