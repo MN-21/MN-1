{
  "nbformat": 4,
  "nbformat_minor": 0,
  "metadata": {
    "colab": {
      "name": "p3.MLP.california_housing.ipynb",
      "provenance": [],
      "collapsed_sections": [],
      "authorship_tag": "ABX9TyP9+lre3o7t84P/DK2HTiMP",
      "include_colab_link": true
    },
    "kernelspec": {
      "name": "python3",
      "display_name": "Python 3"
    },
    "language_info": {
      "name": "python"
    }
  },
  "cells": [
    {
      "cell_type": "markdown",
      "metadata": {
        "id": "view-in-github",
        "colab_type": "text"
      },
      "source": [
        "<a href=\"https://colab.research.google.com/github/MN-21/1/blob/main/p3_MLP_california_housing.ipynb\" target=\"_parent\"><img src=\"https://colab.research.google.com/assets/colab-badge.svg\" alt=\"Open In Colab\"/></a>"
      ]
    },
    {
      "cell_type": "code",
      "metadata": {
        "id": "mzyFixFAUyew"
      },
      "source": [
        "from __future__ import print_function\n",
        "import numpy as np \n",
        "import pandas as pd\n",
        "import matplotlib.pyplot as plt\n",
        "%matplotlib inline\n",
        "\n",
        "from sklearn.datasets import fetch_california_housing\n",
        "from sklearn.model_selection import train_test_split\n",
        "from sklearn.preprocessing import StandardScaler\n",
        "\n",
        "import tensorflow as tf\n",
        "from tensorflow import keras\n",
        "from keras.models import sequential\n",
        "from keras.layers import Dense, Dropout, Activation, Flatten, BatchNormalization\n",
        "from keras import regularizers\n",
        "import os\n",
        "import math"
      ],
      "execution_count": 1,
      "outputs": []
    },
    {
      "cell_type": "code",
      "metadata": {
        "id": "ME3KHVI-W2hw",
        "colab": {
          "base_uri": "https://localhost:8080/"
        },
        "outputId": "5399320c-e874-400a-de2a-60bbebf3c04e"
      },
      "source": [
        "housing=fetch_california_housing()\n",
        "housing.keys()"
      ],
      "execution_count": 2,
      "outputs": [
        {
          "output_type": "execute_result",
          "data": {
            "text/plain": [
              "dict_keys(['data', 'target', 'frame', 'target_names', 'feature_names', 'DESCR'])"
            ]
          },
          "metadata": {},
          "execution_count": 2
        }
      ]
    },
    {
      "cell_type": "code",
      "metadata": {
        "id": "2W4jWqYDXG1H"
      },
      "source": [
        "x_train, x_test, y_train, y_test= train_test_split(housing.data,housing.target,test_size=0.25)\n",
        "scaler=StandardScaler()\n",
        "x_train= scaler.fit_transform(x_train)\n",
        "x_test= scaler.transform(x_test)"
      ],
      "execution_count": 3,
      "outputs": []
    },
    {
      "cell_type": "code",
      "metadata": {
        "id": "dy1tyvR2Y6as",
        "colab": {
          "base_uri": "https://localhost:8080/"
        },
        "outputId": "d960dd3b-4c33-44dd-8515-8cdd8a3f9477"
      },
      "source": [
        "x_train.shape, x_test.shape"
      ],
      "execution_count": 4,
      "outputs": [
        {
          "output_type": "execute_result",
          "data": {
            "text/plain": [
              "((15480, 8), (5160, 8))"
            ]
          },
          "metadata": {},
          "execution_count": 4
        }
      ]
    },
    {
      "cell_type": "code",
      "metadata": {
        "id": "JCYqtBcpYXke"
      },
      "source": [
        "np.random.seed(21)\n",
        "tf.random.set_seed(21)"
      ],
      "execution_count": 5,
      "outputs": []
    },
    {
      "cell_type": "code",
      "metadata": {
        "id": "XnizELaXYmC8"
      },
      "source": [
        "model=keras.models.Sequential([\n",
        "                               keras.layers.Dense(units=30, activation='relu',input_shape=x_train.shape[1:]),\n",
        "                               keras.layers.Dense(1)])\n",
        "\n",
        "\n",
        "model.compile(loss='mean_squared_error',\n",
        "              optimizer=keras.optimizers.SGD(learning_rate=0.02),\n",
        "              metrics=['mean_squared_error'])\n"
      ],
      "execution_count": 6,
      "outputs": []
    },
    {
      "cell_type": "code",
      "metadata": {
        "id": "BPXsdfFLeFPW",
        "colab": {
          "base_uri": "https://localhost:8080/"
        },
        "outputId": "cbbbc026-8be8-4669-c1d3-f44e5f77f1e9"
      },
      "source": [
        "hist=model.fit(x_train, y_train, epochs=3,validation_split=0.2)"
      ],
      "execution_count": 7,
      "outputs": [
        {
          "output_type": "stream",
          "name": "stdout",
          "text": [
            "Epoch 1/3\n",
            "387/387 [==============================] - 2s 4ms/step - loss: 1.1830 - mean_squared_error: 1.1830 - val_loss: 0.6803 - val_mean_squared_error: 0.6803\n",
            "Epoch 2/3\n",
            "387/387 [==============================] - 1s 3ms/step - loss: 0.4856 - mean_squared_error: 0.4856 - val_loss: 0.4930 - val_mean_squared_error: 0.4930\n",
            "Epoch 3/3\n",
            "387/387 [==============================] - 2s 4ms/step - loss: 0.4264 - mean_squared_error: 0.4264 - val_loss: 0.4482 - val_mean_squared_error: 0.4482\n"
          ]
        }
      ]
    },
    {
      "cell_type": "code",
      "metadata": {
        "id": "N6nNNd04hBB3",
        "colab": {
          "base_uri": "https://localhost:8080/"
        },
        "outputId": "569074ba-ad2e-4ef8-c2b4-8d64ae252f76"
      },
      "source": [
        "hist.history"
      ],
      "execution_count": 8,
      "outputs": [
        {
          "output_type": "execute_result",
          "data": {
            "text/plain": [
              "{'loss': [1.1829830408096313, 0.4855710566043854, 0.4264106750488281],\n",
              " 'mean_squared_error': [1.1829830408096313,\n",
              "  0.4855710566043854,\n",
              "  0.4264106750488281],\n",
              " 'val_loss': [0.680327832698822, 0.49304676055908203, 0.44817212224006653],\n",
              " 'val_mean_squared_error': [0.680327832698822,\n",
              "  0.49304676055908203,\n",
              "  0.44817212224006653]}"
            ]
          },
          "metadata": {},
          "execution_count": 8
        }
      ]
    },
    {
      "cell_type": "code",
      "metadata": {
        "id": "a0luhkEvf8oH",
        "colab": {
          "base_uri": "https://localhost:8080/"
        },
        "outputId": "b5357b20-1c54-43c3-fc20-45eb9885fb2c"
      },
      "source": [
        "model.evaluate(x_test, y_test)"
      ],
      "execution_count": 9,
      "outputs": [
        {
          "output_type": "stream",
          "name": "stdout",
          "text": [
            "162/162 [==============================] - 0s 2ms/step - loss: 0.4273 - mean_squared_error: 0.4273\n"
          ]
        },
        {
          "output_type": "execute_result",
          "data": {
            "text/plain": [
              "[0.42728665471076965, 0.42728665471076965]"
            ]
          },
          "metadata": {},
          "execution_count": 9
        }
      ]
    },
    {
      "cell_type": "code",
      "metadata": {
        "id": "7yl9cLLigLJ3",
        "colab": {
          "base_uri": "https://localhost:8080/"
        },
        "outputId": "f9d4731c-6678-482e-ec27-3319891b3e3c"
      },
      "source": [
        "model.predict(x_test[21:22])"
      ],
      "execution_count": 10,
      "outputs": [
        {
          "output_type": "execute_result",
          "data": {
            "text/plain": [
              "array([[1.7423335]], dtype=float32)"
            ]
          },
          "metadata": {},
          "execution_count": 10
        }
      ]
    },
    {
      "cell_type": "code",
      "metadata": {
        "id": "L6jA71xpgUHl",
        "colab": {
          "base_uri": "https://localhost:8080/"
        },
        "outputId": "8021a478-aead-452f-ad4d-1058dba70783"
      },
      "source": [
        "y_test[21:22]"
      ],
      "execution_count": 11,
      "outputs": [
        {
          "output_type": "execute_result",
          "data": {
            "text/plain": [
              "array([1.778])"
            ]
          },
          "metadata": {},
          "execution_count": 11
        }
      ]
    },
    {
      "cell_type": "code",
      "metadata": {
        "id": "JoBK2h-Oguet",
        "colab": {
          "base_uri": "https://localhost:8080/",
          "height": 295
        },
        "outputId": "7dadc58f-18fc-4e28-8f8c-f8925949c967"
      },
      "source": [
        "df=pd.DataFrame(hist.history)\n",
        "df.plot()\n",
        "plt.xlabel('Epochs')\n",
        "plt.title('Model Performance')\n",
        "plt.ylim((0,1))\n",
        "plt.grid(True)"
      ],
      "execution_count": 12,
      "outputs": [
        {
          "output_type": "display_data",
          "data": {
            "image/png": "[encoded data removed]",
            "text/plain": [
              "<Figure size 432x288 with 1 Axes>"
            ]
          },
          "metadata": {
            "needs_background": "light"
          }
        }
      ]
    },
    {
      "cell_type": "code",
      "metadata": {
        "id": "TVMRMWmVuT1s"
      },
      "source": [
        "model.save('p3.MLP.california_housing.h5')\n",
        "model=keras.models.load_model('p3.MLP.california_housing.h5')\n",
        "\n",
        "model.save_weights('p3.MLP_wieghts.ckpt')\n"
      ],
      "execution_count": 19,
      "outputs": []
    }
  ]
}