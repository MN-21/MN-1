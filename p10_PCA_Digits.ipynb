{
  "nbformat": 4,
  "nbformat_minor": 0,
  "metadata": {
    "colab": {
      "provenance": [],
      "authorship_tag": "ABX9TyPKQEc03xj98HZvN1H94fcn"
    },
    "kernelspec": {
      "name": "python3",
      "display_name": "Python 3"
    },
    "language_info": {
      "name": "python"
    }
  },
  "cells": [
    {
      "cell_type": "markdown",
      "source": [
        "## PCA & KMeans for Imagery Analysis\n",
        "\n",
        "By Meetra Nouri"
      ],
      "metadata": {
        "id": "et2cpiNhp2Zu"
      }
    },
    {
      "cell_type": "code",
      "metadata": {
        "id": "g_yCvz8xgtbz"
      },
      "source": [
        "from __future__ import print_function\n",
        "import numpy as np \n",
        "import pandas as pd\n",
        "import matplotlib.pyplot as plt\n",
        "%matplotlib inline\n",
        "\n",
        "from sklearn.datasets import load_digits\n",
        "import os\n",
        "import math\n",
        "import seaborn as sns"
      ],
      "execution_count": null,
      "outputs": []
    },
    {
      "cell_type": "code",
      "metadata": {
        "id": "r3EiJC_bJlsq"
      },
      "source": [
        "sns.set_style('whitegrid')"
      ],
      "execution_count": null,
      "outputs": []
    },
    {
      "cell_type": "code",
      "metadata": {
        "id": "tb7uvIVys3nI"
      },
      "source": [
        "np.random.seed(21)"
      ],
      "execution_count": null,
      "outputs": []
    },
    {
      "cell_type": "markdown",
      "metadata": {
        "id": "OAx9v_OEwjXt"
      },
      "source": [
        "klearn.datasets.load_digits(*, n_class=10, return_X_y=False, as_frame=False)[source]\n",
        "Load and return the digits dataset (classification).\n",
        "\n",
        "Each datapoint is a 8x8 image of a digit.\n",
        "\n",
        "Classes\n",
        "10\n",
        "\n",
        "Samples per class\n",
        "180\n",
        "\n",
        "Samples total\n",
        "1797\n",
        "\n",
        "Dimensionality\n",
        "64\n",
        "\n",
        "Features\n",
        "integers 0-16"
      ]
    },
    {
      "cell_type": "code",
      "metadata": {
        "colab": {
          "base_uri": "https://localhost:8080/"
        },
        "id": "Ov6QREiowUaR",
        "outputId": "ff28bac1-1418-4113-9bcc-00ebd6eeeae4"
      },
      "source": [
        "digits=load_digits()\n",
        "\n",
        "digits.data.shape, digits.target.shape"
      ],
      "execution_count": null,
      "outputs": [
        {
          "output_type": "execute_result",
          "data": {
            "text/plain": [
              "((1797, 64), (1797,))"
            ]
          },
          "metadata": {},
          "execution_count": 4
        }
      ]
    },
    {
      "cell_type": "code",
      "metadata": {
        "colab": {
          "base_uri": "https://localhost:8080/"
        },
        "id": "AnWgQ-tj08VK",
        "outputId": "5a664955-1045-447c-d950-add86d4af08b"
      },
      "source": [
        "digits.keys()"
      ],
      "execution_count": null,
      "outputs": [
        {
          "output_type": "execute_result",
          "data": {
            "text/plain": [
              "dict_keys(['data', 'target', 'target_names', 'images', 'DESCR'])"
            ]
          },
          "metadata": {},
          "execution_count": 5
        }
      ]
    },
    {
      "cell_type": "code",
      "metadata": {
        "colab": {
          "base_uri": "https://localhost:8080/"
        },
        "id": "D6VdtMTfbJZR",
        "outputId": "f4e2d44a-836d-49ce-9a1b-e2eca026a86c"
      },
      "source": [
        "digits.target_names"
      ],
      "execution_count": null,
      "outputs": [
        {
          "output_type": "execute_result",
          "data": {
            "text/plain": [
              "array([0, 1, 2, 3, 4, 5, 6, 7, 8, 9])"
            ]
          },
          "metadata": {},
          "execution_count": 6
        }
      ]
    },
    {
      "cell_type": "code",
      "metadata": {
        "colab": {
          "base_uri": "https://localhost:8080/",
          "height": 130
        },
        "id": "OAYAmKyAxVGC",
        "outputId": "68fe8be7-68de-4eba-e468-4fc690a03ffd"
      },
      "source": [
        "data=pd.DataFrame(digits.data)\n",
        "data.head(2)"
      ],
      "execution_count": null,
      "outputs": [
        {
          "output_type": "execute_result",
          "data": {
            "text/html": [
              "<div>\n",
              "<style scoped>\n",
              "    .dataframe tbody tr th:only-of-type {\n",
              "        vertical-align: middle;\n",
              "    }\n",
              "\n",
              "    .dataframe tbody tr th {\n",
              "        vertical-align: top;\n",
              "    }\n",
              "\n",
              "    .dataframe thead th {\n",
              "        text-align: right;\n",
              "    }\n",
              "</style>\n",
              "<table border=\"1\" class=\"dataframe\">\n",
              "  <thead>\n",
              "    <tr style=\"text-align: right;\">\n",
              "      <th></th>\n",
              "      <th>0</th>\n",
              "      <th>1</th>\n",
              "      <th>2</th>\n",
              "      <th>3</th>\n",
              "      <th>4</th>\n",
              "      <th>5</th>\n",
              "      <th>6</th>\n",
              "      <th>7</th>\n",
              "      <th>8</th>\n",
              "      <th>9</th>\n",
              "      <th>10</th>\n",
              "      <th>11</th>\n",
              "      <th>12</th>\n",
              "      <th>13</th>\n",
              "      <th>14</th>\n",
              "      <th>15</th>\n",
              "      <th>16</th>\n",
              "      <th>17</th>\n",
              "      <th>18</th>\n",
              "      <th>19</th>\n",
              "      <th>20</th>\n",
              "      <th>21</th>\n",
              "      <th>22</th>\n",
              "      <th>23</th>\n",
              "      <th>24</th>\n",
              "      <th>25</th>\n",
              "      <th>26</th>\n",
              "      <th>27</th>\n",
              "      <th>28</th>\n",
              "      <th>29</th>\n",
              "      <th>30</th>\n",
              "      <th>31</th>\n",
              "      <th>32</th>\n",
              "      <th>33</th>\n",
              "      <th>34</th>\n",
              "      <th>35</th>\n",
              "      <th>36</th>\n",
              "      <th>37</th>\n",
              "      <th>38</th>\n",
              "      <th>39</th>\n",
              "      <th>40</th>\n",
              "      <th>41</th>\n",
              "      <th>42</th>\n",
              "      <th>43</th>\n",
              "      <th>44</th>\n",
              "      <th>45</th>\n",
              "      <th>46</th>\n",
              "      <th>47</th>\n",
              "      <th>48</th>\n",
              "      <th>49</th>\n",
              "      <th>50</th>\n",
              "      <th>51</th>\n",
              "      <th>52</th>\n",
              "      <th>53</th>\n",
              "      <th>54</th>\n",
              "      <th>55</th>\n",
              "      <th>56</th>\n",
              "      <th>57</th>\n",
              "      <th>58</th>\n",
              "      <th>59</th>\n",
              "      <th>60</th>\n",
              "      <th>61</th>\n",
              "      <th>62</th>\n",
              "      <th>63</th>\n",
              "    </tr>\n",
              "  </thead>\n",
              "  <tbody>\n",
              "    <tr>\n",
              "      <th>0</th>\n",
              "      <td>0.0</td>\n",
              "      <td>0.0</td>\n",
              "      <td>5.0</td>\n",
              "      <td>13.0</td>\n",
              "      <td>9.0</td>\n",
              "      <td>1.0</td>\n",
              "      <td>0.0</td>\n",
              "      <td>0.0</td>\n",
              "      <td>0.0</td>\n",
              "      <td>0.0</td>\n",
              "      <td>13.0</td>\n",
              "      <td>15.0</td>\n",
              "      <td>10.0</td>\n",
              "      <td>15.0</td>\n",
              "      <td>5.0</td>\n",
              "      <td>0.0</td>\n",
              "      <td>0.0</td>\n",
              "      <td>3.0</td>\n",
              "      <td>15.0</td>\n",
              "      <td>2.0</td>\n",
              "      <td>0.0</td>\n",
              "      <td>11.0</td>\n",
              "      <td>8.0</td>\n",
              "      <td>0.0</td>\n",
              "      <td>0.0</td>\n",
              "      <td>4.0</td>\n",
              "      <td>12.0</td>\n",
              "      <td>0.0</td>\n",
              "      <td>0.0</td>\n",
              "      <td>8.0</td>\n",
              "      <td>8.0</td>\n",
              "      <td>0.0</td>\n",
              "      <td>0.0</td>\n",
              "      <td>5.0</td>\n",
              "      <td>8.0</td>\n",
              "      <td>0.0</td>\n",
              "      <td>0.0</td>\n",
              "      <td>9.0</td>\n",
              "      <td>8.0</td>\n",
              "      <td>0.0</td>\n",
              "      <td>0.0</td>\n",
              "      <td>4.0</td>\n",
              "      <td>11.0</td>\n",
              "      <td>0.0</td>\n",
              "      <td>1.0</td>\n",
              "      <td>12.0</td>\n",
              "      <td>7.0</td>\n",
              "      <td>0.0</td>\n",
              "      <td>0.0</td>\n",
              "      <td>2.0</td>\n",
              "      <td>14.0</td>\n",
              "      <td>5.0</td>\n",
              "      <td>10.0</td>\n",
              "      <td>12.0</td>\n",
              "      <td>0.0</td>\n",
              "      <td>0.0</td>\n",
              "      <td>0.0</td>\n",
              "      <td>0.0</td>\n",
              "      <td>6.0</td>\n",
              "      <td>13.0</td>\n",
              "      <td>10.0</td>\n",
              "      <td>0.0</td>\n",
              "      <td>0.0</td>\n",
              "      <td>0.0</td>\n",
              "    </tr>\n",
              "    <tr>\n",
              "      <th>1</th>\n",
              "      <td>0.0</td>\n",
              "      <td>0.0</td>\n",
              "      <td>0.0</td>\n",
              "      <td>12.0</td>\n",
              "      <td>13.0</td>\n",
              "      <td>5.0</td>\n",
              "      <td>0.0</td>\n",
              "      <td>0.0</td>\n",
              "      <td>0.0</td>\n",
              "      <td>0.0</td>\n",
              "      <td>0.0</td>\n",
              "      <td>11.0</td>\n",
              "      <td>16.0</td>\n",
              "      <td>9.0</td>\n",
              "      <td>0.0</td>\n",
              "      <td>0.0</td>\n",
              "      <td>0.0</td>\n",
              "      <td>0.0</td>\n",
              "      <td>3.0</td>\n",
              "      <td>15.0</td>\n",
              "      <td>16.0</td>\n",
              "      <td>6.0</td>\n",
              "      <td>0.0</td>\n",
              "      <td>0.0</td>\n",
              "      <td>0.0</td>\n",
              "      <td>7.0</td>\n",
              "      <td>15.0</td>\n",
              "      <td>16.0</td>\n",
              "      <td>16.0</td>\n",
              "      <td>2.0</td>\n",
              "      <td>0.0</td>\n",
              "      <td>0.0</td>\n",
              "      <td>0.0</td>\n",
              "      <td>0.0</td>\n",
              "      <td>1.0</td>\n",
              "      <td>16.0</td>\n",
              "      <td>16.0</td>\n",
              "      <td>3.0</td>\n",
              "      <td>0.0</td>\n",
              "      <td>0.0</td>\n",
              "      <td>0.0</td>\n",
              "      <td>0.0</td>\n",
              "      <td>1.0</td>\n",
              "      <td>16.0</td>\n",
              "      <td>16.0</td>\n",
              "      <td>6.0</td>\n",
              "      <td>0.0</td>\n",
              "      <td>0.0</td>\n",
              "      <td>0.0</td>\n",
              "      <td>0.0</td>\n",
              "      <td>1.0</td>\n",
              "      <td>16.0</td>\n",
              "      <td>16.0</td>\n",
              "      <td>6.0</td>\n",
              "      <td>0.0</td>\n",
              "      <td>0.0</td>\n",
              "      <td>0.0</td>\n",
              "      <td>0.0</td>\n",
              "      <td>0.0</td>\n",
              "      <td>11.0</td>\n",
              "      <td>16.0</td>\n",
              "      <td>10.0</td>\n",
              "      <td>0.0</td>\n",
              "      <td>0.0</td>\n",
              "    </tr>\n",
              "  </tbody>\n",
              "</table>\n",
              "</div>"
            ],
            "text/plain": [
              "    0    1    2     3     4    5    6   ...   57   58    59    60    61   62   63\n",
              "0  0.0  0.0  5.0  13.0   9.0  1.0  0.0  ...  0.0  6.0  13.0  10.0   0.0  0.0  0.0\n",
              "1  0.0  0.0  0.0  12.0  13.0  5.0  0.0  ...  0.0  0.0  11.0  16.0  10.0  0.0  0.0\n",
              "\n",
              "[2 rows x 64 columns]"
            ]
          },
          "metadata": {},
          "execution_count": 7
        }
      ]
    },
    {
      "cell_type": "code",
      "metadata": {
        "id": "7Z2qYmc61Mjf",
        "colab": {
          "base_uri": "https://localhost:8080/"
        },
        "outputId": "b804d9af-90b1-4209-8b96-47688b24da08"
      },
      "source": [
        "data.info()"
      ],
      "execution_count": null,
      "outputs": [
        {
          "output_type": "stream",
          "name": "stdout",
          "text": [
            "<class 'pandas.core.frame.DataFrame'>\n",
            "RangeIndex: 1797 entries, 0 to 1796\n",
            "Data columns (total 64 columns):\n",
            " #   Column  Non-Null Count  Dtype  \n",
            "---  ------  --------------  -----  \n",
            " 0   0       1797 non-null   float64\n",
            " 1   1       1797 non-null   float64\n",
            " 2   2       1797 non-null   float64\n",
            " 3   3       1797 non-null   float64\n",
            " 4   4       1797 non-null   float64\n",
            " 5   5       1797 non-null   float64\n",
            " 6   6       1797 non-null   float64\n",
            " 7   7       1797 non-null   float64\n",
            " 8   8       1797 non-null   float64\n",
            " 9   9       1797 non-null   float64\n",
            " 10  10      1797 non-null   float64\n",
            " 11  11      1797 non-null   float64\n",
            " 12  12      1797 non-null   float64\n",
            " 13  13      1797 non-null   float64\n",
            " 14  14      1797 non-null   float64\n",
            " 15  15      1797 non-null   float64\n",
            " 16  16      1797 non-null   float64\n",
            " 17  17      1797 non-null   float64\n",
            " 18  18      1797 non-null   float64\n",
            " 19  19      1797 non-null   float64\n",
            " 20  20      1797 non-null   float64\n",
            " 21  21      1797 non-null   float64\n",
            " 22  22      1797 non-null   float64\n",
            " 23  23      1797 non-null   float64\n",
            " 24  24      1797 non-null   float64\n",
            " 25  25      1797 non-null   float64\n",
            " 26  26      1797 non-null   float64\n",
            " 27  27      1797 non-null   float64\n",
            " 28  28      1797 non-null   float64\n",
            " 29  29      1797 non-null   float64\n",
            " 30  30      1797 non-null   float64\n",
            " 31  31      1797 non-null   float64\n",
            " 32  32      1797 non-null   float64\n",
            " 33  33      1797 non-null   float64\n",
            " 34  34      1797 non-null   float64\n",
            " 35  35      1797 non-null   float64\n",
            " 36  36      1797 non-null   float64\n",
            " 37  37      1797 non-null   float64\n",
            " 38  38      1797 non-null   float64\n",
            " 39  39      1797 non-null   float64\n",
            " 40  40      1797 non-null   float64\n",
            " 41  41      1797 non-null   float64\n",
            " 42  42      1797 non-null   float64\n",
            " 43  43      1797 non-null   float64\n",
            " 44  44      1797 non-null   float64\n",
            " 45  45      1797 non-null   float64\n",
            " 46  46      1797 non-null   float64\n",
            " 47  47      1797 non-null   float64\n",
            " 48  48      1797 non-null   float64\n",
            " 49  49      1797 non-null   float64\n",
            " 50  50      1797 non-null   float64\n",
            " 51  51      1797 non-null   float64\n",
            " 52  52      1797 non-null   float64\n",
            " 53  53      1797 non-null   float64\n",
            " 54  54      1797 non-null   float64\n",
            " 55  55      1797 non-null   float64\n",
            " 56  56      1797 non-null   float64\n",
            " 57  57      1797 non-null   float64\n",
            " 58  58      1797 non-null   float64\n",
            " 59  59      1797 non-null   float64\n",
            " 60  60      1797 non-null   float64\n",
            " 61  61      1797 non-null   float64\n",
            " 62  62      1797 non-null   float64\n",
            " 63  63      1797 non-null   float64\n",
            "dtypes: float64(64)\n",
            "memory usage: 898.6 KB\n"
          ]
        }
      ]
    },
    {
      "cell_type": "markdown",
      "metadata": {
        "id": "73jQ8yvPcNMM"
      },
      "source": [
        "DataFrame.describe(percentiles=None, include=None, exclude=None, datetime_is_numeric=False)"
      ]
    },
    {
      "cell_type": "code",
      "metadata": {
        "colab": {
          "base_uri": "https://localhost:8080/",
          "height": 314
        },
        "id": "2jpDe3kCbrf6",
        "outputId": "7d537049-7654-43b2-ce08-d0737ee4f7a1"
      },
      "source": [
        "data.describe()"
      ],
      "execution_count": null,
      "outputs": [
        {
          "output_type": "execute_result",
          "data": {
            "text/html": [
              "<div>\n",
              "<style scoped>\n",
              "    .dataframe tbody tr th:only-of-type {\n",
              "        vertical-align: middle;\n",
              "    }\n",
              "\n",
              "    .dataframe tbody tr th {\n",
              "        vertical-align: top;\n",
              "    }\n",
              "\n",
              "    .dataframe thead th {\n",
              "        text-align: right;\n",
              "    }\n",
              "</style>\n",
              "<table border=\"1\" class=\"dataframe\">\n",
              "  <thead>\n",
              "    <tr style=\"text-align: right;\">\n",
              "      <th></th>\n",
              "      <th>0</th>\n",
              "      <th>1</th>\n",
              "      <th>2</th>\n",
              "      <th>3</th>\n",
              "      <th>4</th>\n",
              "      <th>5</th>\n",
              "      <th>6</th>\n",
              "      <th>7</th>\n",
              "      <th>8</th>\n",
              "      <th>9</th>\n",
              "      <th>10</th>\n",
              "      <th>11</th>\n",
              "      <th>12</th>\n",
              "      <th>13</th>\n",
              "      <th>14</th>\n",
              "      <th>15</th>\n",
              "      <th>16</th>\n",
              "      <th>17</th>\n",
              "      <th>18</th>\n",
              "      <th>19</th>\n",
              "      <th>20</th>\n",
              "      <th>21</th>\n",
              "      <th>22</th>\n",
              "      <th>23</th>\n",
              "      <th>24</th>\n",
              "      <th>25</th>\n",
              "      <th>26</th>\n",
              "      <th>27</th>\n",
              "      <th>28</th>\n",
              "      <th>29</th>\n",
              "      <th>30</th>\n",
              "      <th>31</th>\n",
              "      <th>32</th>\n",
              "      <th>33</th>\n",
              "      <th>34</th>\n",
              "      <th>35</th>\n",
              "      <th>36</th>\n",
              "      <th>37</th>\n",
              "      <th>38</th>\n",
              "      <th>39</th>\n",
              "      <th>40</th>\n",
              "      <th>41</th>\n",
              "      <th>42</th>\n",
              "      <th>43</th>\n",
              "      <th>44</th>\n",
              "      <th>45</th>\n",
              "      <th>46</th>\n",
              "      <th>47</th>\n",
              "      <th>48</th>\n",
              "      <th>49</th>\n",
              "      <th>50</th>\n",
              "      <th>51</th>\n",
              "      <th>52</th>\n",
              "      <th>53</th>\n",
              "      <th>54</th>\n",
              "      <th>55</th>\n",
              "      <th>56</th>\n",
              "      <th>57</th>\n",
              "      <th>58</th>\n",
              "      <th>59</th>\n",
              "      <th>60</th>\n",
              "      <th>61</th>\n",
              "      <th>62</th>\n",
              "      <th>63</th>\n",
              "    </tr>\n",
              "  </thead>\n",
              "  <tbody>\n",
              "    <tr>\n",
              "      <th>count</th>\n",
              "      <td>1797.0</td>\n",
              "      <td>1797.000000</td>\n",
              "      <td>1797.000000</td>\n",
              "      <td>1797.000000</td>\n",
              "      <td>1797.000000</td>\n",
              "      <td>1797.000000</td>\n",
              "      <td>1797.000000</td>\n",
              "      <td>1797.000000</td>\n",
              "      <td>1797.000000</td>\n",
              "      <td>1797.000000</td>\n",
              "      <td>1797.000000</td>\n",
              "      <td>1797.000000</td>\n",
              "      <td>1797.000000</td>\n",
              "      <td>1797.000000</td>\n",
              "      <td>1797.000000</td>\n",
              "      <td>1797.000000</td>\n",
              "      <td>1797.000000</td>\n",
              "      <td>1797.000000</td>\n",
              "      <td>1797.000000</td>\n",
              "      <td>1797.000000</td>\n",
              "      <td>1797.000000</td>\n",
              "      <td>1797.000000</td>\n",
              "      <td>1797.000000</td>\n",
              "      <td>1797.000000</td>\n",
              "      <td>1797.000000</td>\n",
              "      <td>1797.000000</td>\n",
              "      <td>1797.000000</td>\n",
              "      <td>1797.000000</td>\n",
              "      <td>1797.000000</td>\n",
              "      <td>1797.000000</td>\n",
              "      <td>1797.000000</td>\n",
              "      <td>1797.000000</td>\n",
              "      <td>1797.0</td>\n",
              "      <td>1797.000000</td>\n",
              "      <td>1797.000000</td>\n",
              "      <td>1797.000000</td>\n",
              "      <td>1797.000000</td>\n",
              "      <td>1797.000000</td>\n",
              "      <td>1797.000000</td>\n",
              "      <td>1797.0</td>\n",
              "      <td>1797.000000</td>\n",
              "      <td>1797.000000</td>\n",
              "      <td>1797.000000</td>\n",
              "      <td>1797.000000</td>\n",
              "      <td>1797.000000</td>\n",
              "      <td>1797.000000</td>\n",
              "      <td>1797.000000</td>\n",
              "      <td>1797.000000</td>\n",
              "      <td>1797.000000</td>\n",
              "      <td>1797.000000</td>\n",
              "      <td>1797.000000</td>\n",
              "      <td>1797.000000</td>\n",
              "      <td>1797.000000</td>\n",
              "      <td>1797.000000</td>\n",
              "      <td>1797.000000</td>\n",
              "      <td>1797.000000</td>\n",
              "      <td>1797.000000</td>\n",
              "      <td>1797.000000</td>\n",
              "      <td>1797.000000</td>\n",
              "      <td>1797.000000</td>\n",
              "      <td>1797.000000</td>\n",
              "      <td>1797.000000</td>\n",
              "      <td>1797.000000</td>\n",
              "      <td>1797.000000</td>\n",
              "    </tr>\n",
              "    <tr>\n",
              "      <th>mean</th>\n",
              "      <td>0.0</td>\n",
              "      <td>0.303840</td>\n",
              "      <td>5.204786</td>\n",
              "      <td>11.835838</td>\n",
              "      <td>11.848080</td>\n",
              "      <td>5.781859</td>\n",
              "      <td>1.362270</td>\n",
              "      <td>0.129661</td>\n",
              "      <td>0.005565</td>\n",
              "      <td>1.993879</td>\n",
              "      <td>10.382304</td>\n",
              "      <td>11.979410</td>\n",
              "      <td>10.279354</td>\n",
              "      <td>8.175849</td>\n",
              "      <td>1.846411</td>\n",
              "      <td>0.107958</td>\n",
              "      <td>0.002782</td>\n",
              "      <td>2.601558</td>\n",
              "      <td>9.903172</td>\n",
              "      <td>6.992766</td>\n",
              "      <td>7.097941</td>\n",
              "      <td>7.806344</td>\n",
              "      <td>1.788536</td>\n",
              "      <td>0.050083</td>\n",
              "      <td>0.001113</td>\n",
              "      <td>2.469672</td>\n",
              "      <td>9.091263</td>\n",
              "      <td>8.821369</td>\n",
              "      <td>9.927101</td>\n",
              "      <td>7.551475</td>\n",
              "      <td>2.317752</td>\n",
              "      <td>0.002226</td>\n",
              "      <td>0.0</td>\n",
              "      <td>2.339455</td>\n",
              "      <td>7.667223</td>\n",
              "      <td>9.071786</td>\n",
              "      <td>10.301614</td>\n",
              "      <td>8.744018</td>\n",
              "      <td>2.909293</td>\n",
              "      <td>0.0</td>\n",
              "      <td>0.008904</td>\n",
              "      <td>1.583751</td>\n",
              "      <td>6.881469</td>\n",
              "      <td>7.228158</td>\n",
              "      <td>7.672231</td>\n",
              "      <td>8.236505</td>\n",
              "      <td>3.456316</td>\n",
              "      <td>0.027268</td>\n",
              "      <td>0.007234</td>\n",
              "      <td>0.704508</td>\n",
              "      <td>7.506956</td>\n",
              "      <td>9.539232</td>\n",
              "      <td>9.416249</td>\n",
              "      <td>8.758486</td>\n",
              "      <td>3.725097</td>\n",
              "      <td>0.206455</td>\n",
              "      <td>0.000556</td>\n",
              "      <td>0.279354</td>\n",
              "      <td>5.557596</td>\n",
              "      <td>12.089037</td>\n",
              "      <td>11.809126</td>\n",
              "      <td>6.764051</td>\n",
              "      <td>2.067891</td>\n",
              "      <td>0.364496</td>\n",
              "    </tr>\n",
              "    <tr>\n",
              "      <th>std</th>\n",
              "      <td>0.0</td>\n",
              "      <td>0.907192</td>\n",
              "      <td>4.754826</td>\n",
              "      <td>4.248842</td>\n",
              "      <td>4.287388</td>\n",
              "      <td>5.666418</td>\n",
              "      <td>3.325775</td>\n",
              "      <td>1.037383</td>\n",
              "      <td>0.094222</td>\n",
              "      <td>3.196160</td>\n",
              "      <td>5.421456</td>\n",
              "      <td>3.977543</td>\n",
              "      <td>4.782681</td>\n",
              "      <td>6.052960</td>\n",
              "      <td>3.586321</td>\n",
              "      <td>0.827915</td>\n",
              "      <td>0.062368</td>\n",
              "      <td>3.576301</td>\n",
              "      <td>5.690767</td>\n",
              "      <td>5.802662</td>\n",
              "      <td>6.175729</td>\n",
              "      <td>6.197322</td>\n",
              "      <td>3.259870</td>\n",
              "      <td>0.438597</td>\n",
              "      <td>0.033352</td>\n",
              "      <td>3.146532</td>\n",
              "      <td>6.192038</td>\n",
              "      <td>5.882936</td>\n",
              "      <td>6.152093</td>\n",
              "      <td>5.872556</td>\n",
              "      <td>3.686456</td>\n",
              "      <td>0.047140</td>\n",
              "      <td>0.0</td>\n",
              "      <td>3.480372</td>\n",
              "      <td>6.324687</td>\n",
              "      <td>6.268391</td>\n",
              "      <td>5.933490</td>\n",
              "      <td>5.870648</td>\n",
              "      <td>3.537283</td>\n",
              "      <td>0.0</td>\n",
              "      <td>0.145185</td>\n",
              "      <td>2.981816</td>\n",
              "      <td>6.537955</td>\n",
              "      <td>6.441378</td>\n",
              "      <td>6.259511</td>\n",
              "      <td>5.695527</td>\n",
              "      <td>4.330951</td>\n",
              "      <td>0.307356</td>\n",
              "      <td>0.204223</td>\n",
              "      <td>1.746153</td>\n",
              "      <td>5.644496</td>\n",
              "      <td>5.226948</td>\n",
              "      <td>5.302048</td>\n",
              "      <td>6.031154</td>\n",
              "      <td>4.919406</td>\n",
              "      <td>0.984401</td>\n",
              "      <td>0.023590</td>\n",
              "      <td>0.934302</td>\n",
              "      <td>5.103019</td>\n",
              "      <td>4.374694</td>\n",
              "      <td>4.933947</td>\n",
              "      <td>5.900623</td>\n",
              "      <td>4.090548</td>\n",
              "      <td>1.860122</td>\n",
              "    </tr>\n",
              "    <tr>\n",
              "      <th>min</th>\n",
              "      <td>0.0</td>\n",
              "      <td>0.000000</td>\n",
              "      <td>0.000000</td>\n",
              "      <td>0.000000</td>\n",
              "      <td>0.000000</td>\n",
              "      <td>0.000000</td>\n",
              "      <td>0.000000</td>\n",
              "      <td>0.000000</td>\n",
              "      <td>0.000000</td>\n",
              "      <td>0.000000</td>\n",
              "      <td>0.000000</td>\n",
              "      <td>0.000000</td>\n",
              "      <td>0.000000</td>\n",
              "      <td>0.000000</td>\n",
              "      <td>0.000000</td>\n",
              "      <td>0.000000</td>\n",
              "      <td>0.000000</td>\n",
              "      <td>0.000000</td>\n",
              "      <td>0.000000</td>\n",
              "      <td>0.000000</td>\n",
              "      <td>0.000000</td>\n",
              "      <td>0.000000</td>\n",
              "      <td>0.000000</td>\n",
              "      <td>0.000000</td>\n",
              "      <td>0.000000</td>\n",
              "      <td>0.000000</td>\n",
              "      <td>0.000000</td>\n",
              "      <td>0.000000</td>\n",
              "      <td>0.000000</td>\n",
              "      <td>0.000000</td>\n",
              "      <td>0.000000</td>\n",
              "      <td>0.000000</td>\n",
              "      <td>0.0</td>\n",
              "      <td>0.000000</td>\n",
              "      <td>0.000000</td>\n",
              "      <td>0.000000</td>\n",
              "      <td>0.000000</td>\n",
              "      <td>0.000000</td>\n",
              "      <td>0.000000</td>\n",
              "      <td>0.0</td>\n",
              "      <td>0.000000</td>\n",
              "      <td>0.000000</td>\n",
              "      <td>0.000000</td>\n",
              "      <td>0.000000</td>\n",
              "      <td>0.000000</td>\n",
              "      <td>0.000000</td>\n",
              "      <td>0.000000</td>\n",
              "      <td>0.000000</td>\n",
              "      <td>0.000000</td>\n",
              "      <td>0.000000</td>\n",
              "      <td>0.000000</td>\n",
              "      <td>0.000000</td>\n",
              "      <td>0.000000</td>\n",
              "      <td>0.000000</td>\n",
              "      <td>0.000000</td>\n",
              "      <td>0.000000</td>\n",
              "      <td>0.000000</td>\n",
              "      <td>0.000000</td>\n",
              "      <td>0.000000</td>\n",
              "      <td>0.000000</td>\n",
              "      <td>0.000000</td>\n",
              "      <td>0.000000</td>\n",
              "      <td>0.000000</td>\n",
              "      <td>0.000000</td>\n",
              "    </tr>\n",
              "    <tr>\n",
              "      <th>25%</th>\n",
              "      <td>0.0</td>\n",
              "      <td>0.000000</td>\n",
              "      <td>1.000000</td>\n",
              "      <td>10.000000</td>\n",
              "      <td>10.000000</td>\n",
              "      <td>0.000000</td>\n",
              "      <td>0.000000</td>\n",
              "      <td>0.000000</td>\n",
              "      <td>0.000000</td>\n",
              "      <td>0.000000</td>\n",
              "      <td>6.000000</td>\n",
              "      <td>9.000000</td>\n",
              "      <td>7.000000</td>\n",
              "      <td>2.000000</td>\n",
              "      <td>0.000000</td>\n",
              "      <td>0.000000</td>\n",
              "      <td>0.000000</td>\n",
              "      <td>0.000000</td>\n",
              "      <td>5.000000</td>\n",
              "      <td>1.000000</td>\n",
              "      <td>1.000000</td>\n",
              "      <td>0.000000</td>\n",
              "      <td>0.000000</td>\n",
              "      <td>0.000000</td>\n",
              "      <td>0.000000</td>\n",
              "      <td>0.000000</td>\n",
              "      <td>3.000000</td>\n",
              "      <td>3.000000</td>\n",
              "      <td>4.000000</td>\n",
              "      <td>1.000000</td>\n",
              "      <td>0.000000</td>\n",
              "      <td>0.000000</td>\n",
              "      <td>0.0</td>\n",
              "      <td>0.000000</td>\n",
              "      <td>0.000000</td>\n",
              "      <td>3.000000</td>\n",
              "      <td>6.000000</td>\n",
              "      <td>3.000000</td>\n",
              "      <td>0.000000</td>\n",
              "      <td>0.0</td>\n",
              "      <td>0.000000</td>\n",
              "      <td>0.000000</td>\n",
              "      <td>0.000000</td>\n",
              "      <td>0.000000</td>\n",
              "      <td>1.000000</td>\n",
              "      <td>3.000000</td>\n",
              "      <td>0.000000</td>\n",
              "      <td>0.000000</td>\n",
              "      <td>0.000000</td>\n",
              "      <td>0.000000</td>\n",
              "      <td>2.000000</td>\n",
              "      <td>5.000000</td>\n",
              "      <td>5.000000</td>\n",
              "      <td>2.000000</td>\n",
              "      <td>0.000000</td>\n",
              "      <td>0.000000</td>\n",
              "      <td>0.000000</td>\n",
              "      <td>0.000000</td>\n",
              "      <td>1.000000</td>\n",
              "      <td>11.000000</td>\n",
              "      <td>10.000000</td>\n",
              "      <td>0.000000</td>\n",
              "      <td>0.000000</td>\n",
              "      <td>0.000000</td>\n",
              "    </tr>\n",
              "    <tr>\n",
              "      <th>50%</th>\n",
              "      <td>0.0</td>\n",
              "      <td>0.000000</td>\n",
              "      <td>4.000000</td>\n",
              "      <td>13.000000</td>\n",
              "      <td>13.000000</td>\n",
              "      <td>4.000000</td>\n",
              "      <td>0.000000</td>\n",
              "      <td>0.000000</td>\n",
              "      <td>0.000000</td>\n",
              "      <td>0.000000</td>\n",
              "      <td>12.000000</td>\n",
              "      <td>13.000000</td>\n",
              "      <td>11.000000</td>\n",
              "      <td>9.000000</td>\n",
              "      <td>0.000000</td>\n",
              "      <td>0.000000</td>\n",
              "      <td>0.000000</td>\n",
              "      <td>1.000000</td>\n",
              "      <td>12.000000</td>\n",
              "      <td>6.000000</td>\n",
              "      <td>6.000000</td>\n",
              "      <td>8.000000</td>\n",
              "      <td>0.000000</td>\n",
              "      <td>0.000000</td>\n",
              "      <td>0.000000</td>\n",
              "      <td>1.000000</td>\n",
              "      <td>11.000000</td>\n",
              "      <td>10.000000</td>\n",
              "      <td>12.000000</td>\n",
              "      <td>7.000000</td>\n",
              "      <td>0.000000</td>\n",
              "      <td>0.000000</td>\n",
              "      <td>0.0</td>\n",
              "      <td>0.000000</td>\n",
              "      <td>8.000000</td>\n",
              "      <td>10.000000</td>\n",
              "      <td>13.000000</td>\n",
              "      <td>10.000000</td>\n",
              "      <td>1.000000</td>\n",
              "      <td>0.0</td>\n",
              "      <td>0.000000</td>\n",
              "      <td>0.000000</td>\n",
              "      <td>6.000000</td>\n",
              "      <td>7.000000</td>\n",
              "      <td>8.000000</td>\n",
              "      <td>9.000000</td>\n",
              "      <td>1.000000</td>\n",
              "      <td>0.000000</td>\n",
              "      <td>0.000000</td>\n",
              "      <td>0.000000</td>\n",
              "      <td>8.000000</td>\n",
              "      <td>10.000000</td>\n",
              "      <td>10.000000</td>\n",
              "      <td>10.000000</td>\n",
              "      <td>1.000000</td>\n",
              "      <td>0.000000</td>\n",
              "      <td>0.000000</td>\n",
              "      <td>0.000000</td>\n",
              "      <td>4.000000</td>\n",
              "      <td>13.000000</td>\n",
              "      <td>14.000000</td>\n",
              "      <td>6.000000</td>\n",
              "      <td>0.000000</td>\n",
              "      <td>0.000000</td>\n",
              "    </tr>\n",
              "    <tr>\n",
              "      <th>75%</th>\n",
              "      <td>0.0</td>\n",
              "      <td>0.000000</td>\n",
              "      <td>9.000000</td>\n",
              "      <td>15.000000</td>\n",
              "      <td>15.000000</td>\n",
              "      <td>11.000000</td>\n",
              "      <td>0.000000</td>\n",
              "      <td>0.000000</td>\n",
              "      <td>0.000000</td>\n",
              "      <td>3.000000</td>\n",
              "      <td>15.000000</td>\n",
              "      <td>16.000000</td>\n",
              "      <td>15.000000</td>\n",
              "      <td>14.000000</td>\n",
              "      <td>2.000000</td>\n",
              "      <td>0.000000</td>\n",
              "      <td>0.000000</td>\n",
              "      <td>4.000000</td>\n",
              "      <td>15.000000</td>\n",
              "      <td>12.000000</td>\n",
              "      <td>13.000000</td>\n",
              "      <td>14.000000</td>\n",
              "      <td>3.000000</td>\n",
              "      <td>0.000000</td>\n",
              "      <td>0.000000</td>\n",
              "      <td>4.000000</td>\n",
              "      <td>15.000000</td>\n",
              "      <td>15.000000</td>\n",
              "      <td>16.000000</td>\n",
              "      <td>13.000000</td>\n",
              "      <td>4.000000</td>\n",
              "      <td>0.000000</td>\n",
              "      <td>0.0</td>\n",
              "      <td>4.000000</td>\n",
              "      <td>14.000000</td>\n",
              "      <td>16.000000</td>\n",
              "      <td>16.000000</td>\n",
              "      <td>14.000000</td>\n",
              "      <td>6.000000</td>\n",
              "      <td>0.0</td>\n",
              "      <td>0.000000</td>\n",
              "      <td>2.000000</td>\n",
              "      <td>14.000000</td>\n",
              "      <td>14.000000</td>\n",
              "      <td>14.000000</td>\n",
              "      <td>13.000000</td>\n",
              "      <td>7.000000</td>\n",
              "      <td>0.000000</td>\n",
              "      <td>0.000000</td>\n",
              "      <td>0.000000</td>\n",
              "      <td>13.000000</td>\n",
              "      <td>14.000000</td>\n",
              "      <td>15.000000</td>\n",
              "      <td>15.000000</td>\n",
              "      <td>7.000000</td>\n",
              "      <td>0.000000</td>\n",
              "      <td>0.000000</td>\n",
              "      <td>0.000000</td>\n",
              "      <td>10.000000</td>\n",
              "      <td>16.000000</td>\n",
              "      <td>16.000000</td>\n",
              "      <td>12.000000</td>\n",
              "      <td>2.000000</td>\n",
              "      <td>0.000000</td>\n",
              "    </tr>\n",
              "    <tr>\n",
              "      <th>max</th>\n",
              "      <td>0.0</td>\n",
              "      <td>8.000000</td>\n",
              "      <td>16.000000</td>\n",
              "      <td>16.000000</td>\n",
              "      <td>16.000000</td>\n",
              "      <td>16.000000</td>\n",
              "      <td>16.000000</td>\n",
              "      <td>15.000000</td>\n",
              "      <td>2.000000</td>\n",
              "      <td>16.000000</td>\n",
              "      <td>16.000000</td>\n",
              "      <td>16.000000</td>\n",
              "      <td>16.000000</td>\n",
              "      <td>16.000000</td>\n",
              "      <td>16.000000</td>\n",
              "      <td>12.000000</td>\n",
              "      <td>2.000000</td>\n",
              "      <td>16.000000</td>\n",
              "      <td>16.000000</td>\n",
              "      <td>16.000000</td>\n",
              "      <td>16.000000</td>\n",
              "      <td>16.000000</td>\n",
              "      <td>16.000000</td>\n",
              "      <td>8.000000</td>\n",
              "      <td>1.000000</td>\n",
              "      <td>15.000000</td>\n",
              "      <td>16.000000</td>\n",
              "      <td>16.000000</td>\n",
              "      <td>16.000000</td>\n",
              "      <td>16.000000</td>\n",
              "      <td>15.000000</td>\n",
              "      <td>1.000000</td>\n",
              "      <td>0.0</td>\n",
              "      <td>14.000000</td>\n",
              "      <td>16.000000</td>\n",
              "      <td>16.000000</td>\n",
              "      <td>16.000000</td>\n",
              "      <td>16.000000</td>\n",
              "      <td>14.000000</td>\n",
              "      <td>0.0</td>\n",
              "      <td>4.000000</td>\n",
              "      <td>16.000000</td>\n",
              "      <td>16.000000</td>\n",
              "      <td>16.000000</td>\n",
              "      <td>16.000000</td>\n",
              "      <td>16.000000</td>\n",
              "      <td>16.000000</td>\n",
              "      <td>6.000000</td>\n",
              "      <td>8.000000</td>\n",
              "      <td>16.000000</td>\n",
              "      <td>16.000000</td>\n",
              "      <td>16.000000</td>\n",
              "      <td>16.000000</td>\n",
              "      <td>16.000000</td>\n",
              "      <td>16.000000</td>\n",
              "      <td>13.000000</td>\n",
              "      <td>1.000000</td>\n",
              "      <td>9.000000</td>\n",
              "      <td>16.000000</td>\n",
              "      <td>16.000000</td>\n",
              "      <td>16.000000</td>\n",
              "      <td>16.000000</td>\n",
              "      <td>16.000000</td>\n",
              "      <td>16.000000</td>\n",
              "    </tr>\n",
              "  </tbody>\n",
              "</table>\n",
              "</div>"
            ],
            "text/plain": [
              "           0            1            2   ...           61           62           63\n",
              "count  1797.0  1797.000000  1797.000000  ...  1797.000000  1797.000000  1797.000000\n",
              "mean      0.0     0.303840     5.204786  ...     6.764051     2.067891     0.364496\n",
              "std       0.0     0.907192     4.754826  ...     5.900623     4.090548     1.860122\n",
              "min       0.0     0.000000     0.000000  ...     0.000000     0.000000     0.000000\n",
              "25%       0.0     0.000000     1.000000  ...     0.000000     0.000000     0.000000\n",
              "50%       0.0     0.000000     4.000000  ...     6.000000     0.000000     0.000000\n",
              "75%       0.0     0.000000     9.000000  ...    12.000000     2.000000     0.000000\n",
              "max       0.0     8.000000    16.000000  ...    16.000000    16.000000    16.000000\n",
              "\n",
              "[8 rows x 64 columns]"
            ]
          },
          "metadata": {},
          "execution_count": 9
        }
      ]
    },
    {
      "cell_type": "markdown",
      "metadata": {
        "id": "TLvTR3SkHSmz"
      },
      "source": [
        "**PCA**(principal component analysis )"
      ]
    },
    {
      "cell_type": "markdown",
      "metadata": {
        "id": "Q6IqSWemHspO"
      },
      "source": [
        "sklearn.decomposition.PCA(n_components=None, *, copy=True, whiten=False, svd_solver='auto', tol=0.0, iterated_power='auto', random_state=None)"
      ]
    },
    {
      "cell_type": "markdown",
      "metadata": {
        "id": "bFcvbWxXH9a7"
      },
      "source": [
        "Linear dimensionality reduction using Singular Value Decomposition of the data to project it to a lower dimensional space. The input data is centered but not scaled for each feature before applying the SVD.\n",
        "\n",
        " this class does not support sparse input. See TruncatedSVD for an alternative with sparse data."
      ]
    },
    {
      "cell_type": "markdown",
      "metadata": {
        "id": "tUwNL73sIXAK"
      },
      "source": [
        "whiten\n",
        "\n",
        "When True (False by default) ensure uncorrelated outputs with unit component-wise variances.\n",
        "\n",
        "Whitening will remove some information from the transformed signal (the relative variance scales of the components) but can sometime improve the predictive accuracy of the downstream estimators by making their data respect some hard-wired assumptions."
      ]
    },
    {
      "cell_type": "code",
      "metadata": {
        "colab": {
          "base_uri": "https://localhost:8080/"
        },
        "id": "v7udWpNnHYul",
        "outputId": "d0bb04c2-4d39-4dd2-a3dc-b57c435a71cd"
      },
      "source": [
        "from sklearn.decomposition import PCA\n",
        "\n",
        "pca=PCA(n_components=0.90)\n",
        "pca.fit_transform(data)\n",
        "\n",
        "pca.n_components_, pca.explained_variance_ratio_"
      ],
      "execution_count": null,
      "outputs": [
        {
          "output_type": "execute_result",
          "data": {
            "text/plain": [
              "(21, array([0.14890594, 0.13618771, 0.11794594, 0.08409979, 0.05782415,\n",
              "        0.0491691 , 0.04315987, 0.03661373, 0.03353248, 0.03078806,\n",
              "        0.02372341, 0.02272697, 0.01821863, 0.01773855, 0.01467101,\n",
              "        0.01409716, 0.01318589, 0.01248138, 0.01017718, 0.00905617,\n",
              "        0.00889538]))"
            ]
          },
          "metadata": {},
          "execution_count": 10
        }
      ]
    },
    {
      "cell_type": "code",
      "metadata": {
        "colab": {
          "base_uri": "https://localhost:8080/",
          "height": 280
        },
        "id": "xBM8izucIs01",
        "outputId": "cc808b0c-d22c-4d93-c4b4-f8036697ae72"
      },
      "source": [
        "for i in range(1,8):\n",
        "  pca=PCA(n_components=0.90)\n",
        "  pca.fit_transform(data)\n",
        "  plt.plot(np.cumsum(pca.explained_variance_ratio_))\n",
        "  plt.xlabel('n_components')\n",
        "  plt.ylabel('cumulative explained variance')\n",
        "  #plt.grid()"
      ],
      "execution_count": null,
      "outputs": [
        {
          "output_type": "display_data",
          "data": {
            "image/png": "[encoded data removed]",
            "text/plain": [
              "<Figure size 432x288 with 1 Axes>"
            ]
          },
          "metadata": {}
        }
      ]
    },
    {
      "cell_type": "markdown",
      "metadata": {
        "id": "im9ykddeLS7f"
      },
      "source": [
        "sklearn.cluster.**KMeans**(n_clusters=8, *, init='k-means++', n_init=10, max_iter=300, tol=0.0001, precompute_distances='deprecated', verbose=0, random_state=None, copy_x=True, n_jobs='deprecated', algorithm='auto')\n",
        "\n",
        "The KMeans algorithm clusters data by trying to separate samples in n groups of equal variance, minimizing a criterion known as the inertia or within-cluster sum-of-squares. This algorithm requires the number of clusters to be specified. It scales well to large number of samples and has been used across a large range of application areas in many different fields."
      ]
    },
    {
      "cell_type": "markdown",
      "metadata": {
        "id": "bsWox5UwB_6a"
      },
      "source": [
        "inertia\n",
        "\n",
        "Sum of squared distances of samples to their closest cluster center."
      ]
    },
    {
      "cell_type": "code",
      "metadata": {
        "id": "iXZECECcOBGw"
      },
      "source": [
        "df=pca.fit_transform(data)"
      ],
      "execution_count": null,
      "outputs": []
    },
    {
      "cell_type": "code",
      "metadata": {
        "colab": {
          "base_uri": "https://localhost:8080/"
        },
        "id": "lTPQob1ECggg",
        "outputId": "f6a64762-fc71-4426-8c83-fa3819e4d662"
      },
      "source": [
        "df.shape"
      ],
      "execution_count": null,
      "outputs": [
        {
          "output_type": "execute_result",
          "data": {
            "text/plain": [
              "(1797, 21)"
            ]
          },
          "metadata": {},
          "execution_count": 13
        }
      ]
    },
    {
      "cell_type": "code",
      "metadata": {
        "colab": {
          "base_uri": "https://localhost:8080/"
        },
        "id": "ftVEdzwuDzDI",
        "outputId": "a48b42f2-62bd-424a-f012-1b422b859a6d"
      },
      "source": [
        "df[0]"
      ],
      "execution_count": null,
      "outputs": [
        {
          "output_type": "execute_result",
          "data": {
            "text/plain": [
              "array([-1.25946645, 21.27488348, -9.46305462, 13.01418869, -7.12882278,\n",
              "       -7.44065876,  3.25283716,  2.55347036, -0.58184214,  3.62569695,\n",
              "        2.58595688,  1.55160708,  0.85449671, -3.33874935,  5.90658968,\n",
              "        2.74359339,  0.41983691, -0.89814969,  0.70261087, -3.46211868,\n",
              "        2.68084958])"
            ]
          },
          "metadata": {},
          "execution_count": 14
        }
      ]
    },
    {
      "cell_type": "markdown",
      "metadata": {
        "id": "Gsa-I99ahnK5"
      },
      "source": [
        "**Elbow Method**"
      ]
    },
    {
      "cell_type": "code",
      "metadata": {
        "colab": {
          "base_uri": "https://localhost:8080/",
          "height": 312
        },
        "id": "nZzHgOnchYMt",
        "outputId": "bdccf7a8-d9ec-41dc-ab55-67ff13b5aec8"
      },
      "source": [
        "from sklearn.cluster import KMeans\n",
        "\n",
        "inertia=[]\n",
        "for i in range(1,20):\n",
        "  kmeans=KMeans(n_clusters=i)\n",
        "  kmeans.fit(df)\n",
        "  inertia.append(kmeans.inertia_)\n",
        "plt.plot(range(1,20), inertia, marker='o')\n",
        "plt.tight_layout()\n",
        "plt.xlabel('n_cluster')\n",
        "plt.ylabel('inertia');"
      ],
      "execution_count": null,
      "outputs": [
        {
          "output_type": "display_data",
          "data": {
            "image/png": "[encoded data removed]",
            "text/plain": [
              "<Figure size 432x288 with 1 Axes>"
            ]
          },
          "metadata": {}
        }
      ]
    },
    {
      "cell_type": "markdown",
      "metadata": {
        "id": "SUt2HGKAjnEk"
      },
      "source": [
        "**Silhouette_Score**"
      ]
    },
    {
      "cell_type": "markdown",
      "metadata": {
        "id": "dvVw6g5XwflI"
      },
      "source": [
        "sklearn.metrics.silhouette_score(X, labels, *, metric='euclidean', sample_size=None, random_state=None, **kwds)"
      ]
    },
    {
      "cell_type": "markdown",
      "metadata": {
        "id": "MIkUdNTtzRjF"
      },
      "source": [
        "Note that Silhouette Coefficient is only defined if number of labels is 2 <= n_labels <= n_samples - 1"
      ]
    },
    {
      "cell_type": "markdown",
      "metadata": {
        "id": "xx-how4041tb"
      },
      "source": [
        "Compute the mean Silhouette Coefficient of all samples.\n",
        "\n",
        "The Silhouette Coefficient is calculated using the mean intra-cluster distance (a) and the mean nearest-cluster distance (b) for each sample. The Silhouette Coefficient for a sample is (b - a) / max(a, b). To clarify, b is the distance between a sample and the nearest cluster that the sample is not a part of."
      ]
    },
    {
      "cell_type": "markdown",
      "metadata": {
        "id": "i7XWJGPD5h6h"
      },
      "source": [
        "The best value is 1 and the worst value is -1. Values near 0 indicate overlapping clusters. Negative values generally indicate that a sample has been assigned to the wrong cluster, as a different cluster is more similar."
      ]
    },
    {
      "cell_type": "code",
      "metadata": {
        "id": "9pzsNHOZwok_"
      },
      "source": [
        "from sklearn.metrics import silhouette_score, silhouette_samples"
      ],
      "execution_count": null,
      "outputs": []
    },
    {
      "cell_type": "code",
      "metadata": {
        "colab": {
          "base_uri": "https://localhost:8080/",
          "height": 297
        },
        "id": "4QMdP_7owQrB",
        "outputId": "bce04eae-8f7c-4aab-e49c-9e448524a551"
      },
      "source": [
        "sse=[]\n",
        "for i in range(2,20):\n",
        "  kmeans=KMeans(n_clusters=i)\n",
        "  label=kmeans.fit_predict(df)\n",
        "  sse.append(silhouette_score(df, label))\n",
        "plt.plot(range(2,20), sse)\n",
        "plt.xlabel('n_cluster')\n",
        "plt.ylabel('silhouette_score')"
      ],
      "execution_count": null,
      "outputs": [
        {
          "output_type": "execute_result",
          "data": {
            "text/plain": [
              "Text(0, 0.5, 'silhouette_score')"
            ]
          },
          "metadata": {},
          "execution_count": 17
        },
        {
          "output_type": "display_data",
          "data": {
            "image/png": "[encoded data removed]",
            "text/plain": [
              "<Figure size 432x288 with 1 Axes>"
            ]
          },
          "metadata": {}
        }
      ]
    },
    {
      "cell_type": "code",
      "metadata": {
        "colab": {
          "base_uri": "https://localhost:8080/",
          "height": 361
        },
        "id": "00SjwWFi8IpC",
        "outputId": "b09c20d9-6066-4c66-f209-9b9b2da9f404"
      },
      "source": [
        "from yellowbrick.cluster import SilhouetteVisualizer\n",
        "\n",
        "kmeans = KMeans(8)\n",
        "SilhouetteVisualizer(kmeans,colors='yellowbrick').fit(df)\n",
        "plt.xlabel('silhouette_score')\n",
        "plt.ylabel('cluster');"
      ],
      "execution_count": null,
      "outputs": [
        {
          "output_type": "display_data",
          "data": {
            "image/png": "[encoded data removed]",
            "text/plain": [
              "<Figure size 576x396 with 1 Axes>"
            ]
          },
          "metadata": {}
        }
      ]
    },
    {
      "cell_type": "markdown",
      "metadata": {
        "id": "mssp6O1ICvuI"
      },
      "source": [
        "The vertical dashed lines represent the silhouette score for each number of clusters.\n",
        "\n",
        "When most of the instances in a cluster have a lower coefficient than this score \n",
        "(i.e., if\n",
        "many of the instances stop short of the dashed line, ending to the left of it), then the\n",
        "cluster is rather bad since this means its instances are much too close to other clusters."
      ]
    },
    {
      "cell_type": "code",
      "metadata": {
        "colab": {
          "base_uri": "https://localhost:8080/",
          "height": 377
        },
        "id": "f4u-prtjDGE6",
        "outputId": "3ce1ce70-8ad8-4953-a628-1dec8f5ce56c"
      },
      "source": [
        "kmeans = KMeans(9)\n",
        "SilhouetteVisualizer(kmeans,colors='yellowbrick').fit(df)\n",
        "plt.xlabel('silhouette_score')\n",
        "plt.ylabel('cluster');"
      ],
      "execution_count": null,
      "outputs": [
        {
          "output_type": "execute_result",
          "data": {
            "text/plain": [
              "Text(0, 0.5, 'cluster')"
            ]
          },
          "metadata": {},
          "execution_count": 19
        },
        {
          "output_type": "display_data",
          "data": {
            "image/png": "[encoded data removed]",
            "text/plain": [
              "<Figure size 576x396 with 1 Axes>"
            ]
          },
          "metadata": {}
        }
      ]
    },
    {
      "cell_type": "code",
      "metadata": {
        "colab": {
          "base_uri": "https://localhost:8080/",
          "height": 361
        },
        "id": "wNDxqL8gDWpQ",
        "outputId": "299eb05d-359a-4125-c815-bf6f40878ecb"
      },
      "source": [
        "kmeans = KMeans(10)\n",
        "SilhouetteVisualizer(kmeans,colors='yellowbrick').fit(df);\n",
        "plt.xlabel('silhouette_score')\n",
        "plt.ylabel('cluster');"
      ],
      "execution_count": null,
      "outputs": [
        {
          "output_type": "display_data",
          "data": {
            "image/png": "[encoded data removed]",
            "text/plain": [
              "<Figure size 576x396 with 1 Axes>"
            ]
          },
          "metadata": {}
        }
      ]
    },
    {
      "cell_type": "markdown",
      "metadata": {
        "id": "qEG979FBDrj9"
      },
      "source": [
        "when k=9 or\n",
        "k=10, the clusters look pretty good – most instances extend beyond the dashed line, to\n",
        "the right and closer to 1.0"
      ]
    },
    {
      "cell_type": "code",
      "metadata": {
        "colab": {
          "base_uri": "https://localhost:8080/"
        },
        "id": "P6QtLLOXP1rD",
        "outputId": "19a371e4-62b7-4e65-cd60-91e2b81c57d2"
      },
      "source": [
        "from sklearn.cluster import KMeans\n",
        "\n",
        "kmeans=KMeans(n_clusters=9)\n",
        "kmeans.fit_transform(df)\n",
        "label=kmeans.fit_predict(df) #or label=kmeans.predict(df)\n",
        "\n",
        "n_labels=np.unique(label)\n",
        "n_labels"
      ],
      "execution_count": null,
      "outputs": [
        {
          "output_type": "execute_result",
          "data": {
            "text/plain": [
              "array([0, 1, 2, 3, 4, 5, 6, 7, 8], dtype=int32)"
            ]
          },
          "metadata": {},
          "execution_count": 21
        }
      ]
    },
    {
      "cell_type": "code",
      "metadata": {
        "colab": {
          "base_uri": "https://localhost:8080/"
        },
        "id": "Yu_OYkbikaIg",
        "outputId": "ee4def62-7e6b-40b5-ce10-31789736983a"
      },
      "source": [
        "kmeans.labels_"
      ],
      "execution_count": null,
      "outputs": [
        {
          "output_type": "execute_result",
          "data": {
            "text/plain": [
              "array([2, 5, 5, ..., 5, 7, 7], dtype=int32)"
            ]
          },
          "metadata": {},
          "execution_count": 22
        }
      ]
    },
    {
      "cell_type": "code",
      "metadata": {
        "colab": {
          "base_uri": "https://localhost:8080/"
        },
        "id": "7Ch4MlxpklIt",
        "outputId": "93c6d2a7-d79e-4983-98b8-d3df64144e4f"
      },
      "source": [
        "kmeans.cluster_centers_[0]"
      ],
      "execution_count": null,
      "outputs": [
        {
          "output_type": "execute_result",
          "data": {
            "text/plain": [
              "array([23.41608113,  0.28596989, -8.01088852, -2.65802596,  0.85157582,\n",
              "       -0.20673646,  3.74242685,  7.73055304,  0.13575873, -1.38600454,\n",
              "        1.47171189, -3.22806375,  1.09596291,  0.19728263, -1.685392  ,\n",
              "       -2.82731504, -0.51349118, -1.56010097,  0.39381114, -0.56381561,\n",
              "       -0.34493587])"
            ]
          },
          "metadata": {},
          "execution_count": 23
        }
      ]
    },
    {
      "cell_type": "code",
      "metadata": {
        "colab": {
          "base_uri": "https://localhost:8080/",
          "height": 364
        },
        "id": "iCspU6HlSAHI",
        "outputId": "4ba4209e-c47a-4cd8-88e3-7b9b5af5eb93"
      },
      "source": [
        "for i in n_labels:\n",
        "  plt.scatter(x=df[label==i,0], y=df[label==i,1], label=i, alpha=0.5)\n",
        "plt.legend()\n",
        "#plt.grid()"
      ],
      "execution_count": null,
      "outputs": [
        {
          "output_type": "execute_result",
          "data": {
            "text/plain": [
              "<matplotlib.legend.Legend at 0x7f536df41550>"
            ]
          },
          "metadata": {},
          "execution_count": 24
        },
        {
          "output_type": "display_data",
          "data": {
            "image/png": "[encoded data removed]",
            "text/plain": [
              "<Figure size 576x396 with 1 Axes>"
            ]
          },
          "metadata": {}
        }
      ]
    }
  ]
}