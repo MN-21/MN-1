{
  "nbformat": 4,
  "nbformat_minor": 0,
  "metadata": {
    "colab": {
      "name": "p03-2.RFE & LinearRegression.ipynb",
      "provenance": [],
      "collapsed_sections": [],
      "authorship_tag": "ABX9TyO5at1bHSXDJ55C44lu+gTZ",
      "include_colab_link": true
    },
    "kernelspec": {
      "name": "python3",
      "display_name": "Python 3"
    },
    "language_info": {
      "name": "python"
    }
  },
  "cells": [
    {
      "cell_type": "markdown",
      "metadata": {
        "id": "view-in-github",
        "colab_type": "text"
      },
      "source": [
        "<a href=\"https://colab.research.google.com/github/MN-21/MN-1/blob/main/p03_2_RFE_%26_LinearRegression.ipynb\" target=\"_parent\"><img src=\"https://colab.research.google.com/assets/colab-badge.svg\" alt=\"Open In Colab\"/></a>"
      ]
    },
    {
      "cell_type": "markdown",
      "metadata": {
        "id": "6N3D2P0ZjGJt"
      },
      "source": [
        "## Housing Prices Prediction in the Delhi region.\n",
        "\n",
        "A real estate company  has a dataset containing the prices of properties in the Delhi region. It wishes to use the data to optimize the sale prices of the properties based on important factors such as area, bedrooms, parking, etc.\n",
        "\n",
        "\n",
        "1. The company wants to identify the variables affecting house prices, e.g. area, number of rooms, bathrooms, etc.\n",
        "\n",
        "2. The company wants to create a linear model that relates house prices with variables such as number of rooms, area, number of bathrooms, etc.\n",
        "\n",
        "3. The company wants to know the accuracy of the model, i.e. how well these variables can predict house prices.\n"
      ]
    },
    {
      "cell_type": "code",
      "metadata": {
        "id": "Vt1uaP6nhhXu"
      },
      "source": [
        "import numpy as np\n",
        "np.random.seed(21)"
      ],
      "execution_count": null,
      "outputs": []
    },
    {
      "cell_type": "markdown",
      "metadata": {
        "id": "mBCGuU-kkhpl"
      },
      "source": [
        "**1. Looking at Data it**"
      ]
    },
    {
      "cell_type": "code",
      "metadata": {
        "colab": {
          "base_uri": "https://localhost:8080/",
          "height": 130
        },
        "id": "z_JLOOeWkfbX",
        "outputId": "9af136ed-1338-4ca9-f68a-d86a93342576"
      },
      "source": [
        "import pandas as pd\n",
        "\n",
        "df=pd.read_csv('Housing.csv')\n",
        "df.head(2)"
      ],
      "execution_count": null,
      "outputs": [
        {
          "output_type": "execute_result",
          "data": {
            "text/html": [
              "<div>\n",
              "<style scoped>\n",
              "    .dataframe tbody tr th:only-of-type {\n",
              "        vertical-align: middle;\n",
              "    }\n",
              "\n",
              "    .dataframe tbody tr th {\n",
              "        vertical-align: top;\n",
              "    }\n",
              "\n",
              "    .dataframe thead th {\n",
              "        text-align: right;\n",
              "    }\n",
              "</style>\n",
              "<table border=\"1\" class=\"dataframe\">\n",
              "  <thead>\n",
              "    <tr style=\"text-align: right;\">\n",
              "      <th></th>\n",
              "      <th>price</th>\n",
              "      <th>area</th>\n",
              "      <th>bedrooms</th>\n",
              "      <th>bathrooms</th>\n",
              "      <th>stories</th>\n",
              "      <th>mainroad</th>\n",
              "      <th>guestroom</th>\n",
              "      <th>basement</th>\n",
              "      <th>hotwaterheating</th>\n",
              "      <th>airconditioning</th>\n",
              "      <th>parking</th>\n",
              "      <th>prefarea</th>\n",
              "      <th>furnishingstatus</th>\n",
              "    </tr>\n",
              "  </thead>\n",
              "  <tbody>\n",
              "    <tr>\n",
              "      <th>0</th>\n",
              "      <td>13300000</td>\n",
              "      <td>7420</td>\n",
              "      <td>4</td>\n",
              "      <td>2</td>\n",
              "      <td>3</td>\n",
              "      <td>yes</td>\n",
              "      <td>no</td>\n",
              "      <td>no</td>\n",
              "      <td>no</td>\n",
              "      <td>yes</td>\n",
              "      <td>2</td>\n",
              "      <td>yes</td>\n",
              "      <td>furnished</td>\n",
              "    </tr>\n",
              "    <tr>\n",
              "      <th>1</th>\n",
              "      <td>12250000</td>\n",
              "      <td>8960</td>\n",
              "      <td>4</td>\n",
              "      <td>4</td>\n",
              "      <td>4</td>\n",
              "      <td>yes</td>\n",
              "      <td>no</td>\n",
              "      <td>no</td>\n",
              "      <td>no</td>\n",
              "      <td>yes</td>\n",
              "      <td>3</td>\n",
              "      <td>no</td>\n",
              "      <td>furnished</td>\n",
              "    </tr>\n",
              "  </tbody>\n",
              "</table>\n",
              "</div>"
            ],
            "text/plain": [
              "      price  area  bedrooms  ...  parking  prefarea furnishingstatus\n",
              "0  13300000  7420         4  ...        2       yes        furnished\n",
              "1  12250000  8960         4  ...        3        no        furnished\n",
              "\n",
              "[2 rows x 13 columns]"
            ]
          },
          "metadata": {},
          "execution_count": 2
        }
      ]
    },
    {
      "cell_type": "code",
      "metadata": {
        "colab": {
          "base_uri": "https://localhost:8080/"
        },
        "id": "WqYk4-cvlCjL",
        "outputId": "36c42530-6e1f-4b75-ce44-080a1e121c1f"
      },
      "source": [
        "df.shape"
      ],
      "execution_count": null,
      "outputs": [
        {
          "output_type": "execute_result",
          "data": {
            "text/plain": [
              "(545, 13)"
            ]
          },
          "metadata": {},
          "execution_count": 3
        }
      ]
    },
    {
      "cell_type": "code",
      "metadata": {
        "colab": {
          "base_uri": "https://localhost:8080/"
        },
        "id": "GM3_sl0elEDA",
        "outputId": "78c6f0ab-af64-41e7-8b9a-dde957f6848d"
      },
      "source": [
        "df.info()"
      ],
      "execution_count": null,
      "outputs": [
        {
          "output_type": "stream",
          "name": "stdout",
          "text": [
            "<class 'pandas.core.frame.DataFrame'>\n",
            "RangeIndex: 545 entries, 0 to 544\n",
            "Data columns (total 13 columns):\n",
            " #   Column            Non-Null Count  Dtype \n",
            "---  ------            --------------  ----- \n",
            " 0   price             545 non-null    int64 \n",
            " 1   area              545 non-null    int64 \n",
            " 2   bedrooms          545 non-null    int64 \n",
            " 3   bathrooms         545 non-null    int64 \n",
            " 4   stories           545 non-null    int64 \n",
            " 5   mainroad          545 non-null    object\n",
            " 6   guestroom         545 non-null    object\n",
            " 7   basement          545 non-null    object\n",
            " 8   hotwaterheating   545 non-null    object\n",
            " 9   airconditioning   545 non-null    object\n",
            " 10  parking           545 non-null    int64 \n",
            " 11  prefarea          545 non-null    object\n",
            " 12  furnishingstatus  545 non-null    object\n",
            "dtypes: int64(6), object(7)\n",
            "memory usage: 55.5+ KB\n"
          ]
        }
      ]
    },
    {
      "cell_type": "markdown",
      "metadata": {
        "id": "20GzQ_gwnCMH"
      },
      "source": [
        "Some feature columns are object, we need to take care of them later."
      ]
    },
    {
      "cell_type": "markdown",
      "metadata": {
        "id": "InQFARlTt8Kt"
      },
      "source": [
        "**2. Data Preparation**"
      ]
    },
    {
      "cell_type": "code",
      "metadata": {
        "colab": {
          "base_uri": "https://localhost:8080/"
        },
        "id": "LBYU4AQXupDX",
        "outputId": "22d7ba97-4310-4b11-9bd8-26bb62a25ef9"
      },
      "source": [
        "print('mainroad:',np.unique(df['mainroad']))\n",
        "print('guestroom:',np.unique(df['guestroom']))\n",
        "print('basement:',np.unique(df['basement']))\n",
        "print('hotwaterheating:',np.unique(df['hotwaterheating']))\n",
        "print('airconditioning:',np.unique(df['airconditioning']))\n",
        "print('prefarea:',np.unique(df['prefarea']))\n",
        "print('furnishingstatus:',np.unique(df['furnishingstatus']))"
      ],
      "execution_count": null,
      "outputs": [
        {
          "output_type": "stream",
          "name": "stdout",
          "text": [
            "mainroad: ['no' 'yes']\n",
            "guestroom: ['no' 'yes']\n",
            "basement: ['no' 'yes']\n",
            "hotwaterheating: ['no' 'yes']\n",
            "airconditioning: ['no' 'yes']\n",
            "prefarea: ['no' 'yes']\n",
            "furnishingstatus: ['furnished' 'semi-furnished' 'unfurnished']\n"
          ]
        }
      ]
    },
    {
      "cell_type": "markdown",
      "metadata": {
        "id": "zkqL4tWbwZeD"
      },
      "source": [
        "We  can see that dataset has many columns with values as 'Yes' or 'No'. we need to convert them.\n",
        "\n",
        "one option is to use OneHotEncoder from sklearn.preprocessing, but we need to apply train_test_split first. note it doesn't return dataframe.\n",
        "\n",
        "Better option is to use pd.get_dummies( , drop_first=True)."
      ]
    },
    {
      "cell_type": "code",
      "metadata": {
        "colab": {
          "base_uri": "https://localhost:8080/",
          "height": 147
        },
        "id": "B2lTk3QGt7ld",
        "outputId": "b323f782-88df-49ab-fb00-4d33781290ea"
      },
      "source": [
        "Df=pd.get_dummies(df, drop_first=True)\n",
        "Df.head(2)"
      ],
      "execution_count": null,
      "outputs": [
        {
          "output_type": "execute_result",
          "data": {
            "text/html": [
              "<div>\n",
              "<style scoped>\n",
              "    .dataframe tbody tr th:only-of-type {\n",
              "        vertical-align: middle;\n",
              "    }\n",
              "\n",
              "    .dataframe tbody tr th {\n",
              "        vertical-align: top;\n",
              "    }\n",
              "\n",
              "    .dataframe thead th {\n",
              "        text-align: right;\n",
              "    }\n",
              "</style>\n",
              "<table border=\"1\" class=\"dataframe\">\n",
              "  <thead>\n",
              "    <tr style=\"text-align: right;\">\n",
              "      <th></th>\n",
              "      <th>price</th>\n",
              "      <th>area</th>\n",
              "      <th>bedrooms</th>\n",
              "      <th>bathrooms</th>\n",
              "      <th>stories</th>\n",
              "      <th>parking</th>\n",
              "      <th>mainroad_yes</th>\n",
              "      <th>guestroom_yes</th>\n",
              "      <th>basement_yes</th>\n",
              "      <th>hotwaterheating_yes</th>\n",
              "      <th>airconditioning_yes</th>\n",
              "      <th>prefarea_yes</th>\n",
              "      <th>furnishingstatus_semi-furnished</th>\n",
              "      <th>furnishingstatus_unfurnished</th>\n",
              "    </tr>\n",
              "  </thead>\n",
              "  <tbody>\n",
              "    <tr>\n",
              "      <th>0</th>\n",
              "      <td>13300000</td>\n",
              "      <td>7420</td>\n",
              "      <td>4</td>\n",
              "      <td>2</td>\n",
              "      <td>3</td>\n",
              "      <td>2</td>\n",
              "      <td>1</td>\n",
              "      <td>0</td>\n",
              "      <td>0</td>\n",
              "      <td>0</td>\n",
              "      <td>1</td>\n",
              "      <td>1</td>\n",
              "      <td>0</td>\n",
              "      <td>0</td>\n",
              "    </tr>\n",
              "    <tr>\n",
              "      <th>1</th>\n",
              "      <td>12250000</td>\n",
              "      <td>8960</td>\n",
              "      <td>4</td>\n",
              "      <td>4</td>\n",
              "      <td>4</td>\n",
              "      <td>3</td>\n",
              "      <td>1</td>\n",
              "      <td>0</td>\n",
              "      <td>0</td>\n",
              "      <td>0</td>\n",
              "      <td>1</td>\n",
              "      <td>0</td>\n",
              "      <td>0</td>\n",
              "      <td>0</td>\n",
              "    </tr>\n",
              "  </tbody>\n",
              "</table>\n",
              "</div>"
            ],
            "text/plain": [
              "      price  ...  furnishingstatus_unfurnished\n",
              "0  13300000  ...                             0\n",
              "1  12250000  ...                             0\n",
              "\n",
              "[2 rows x 14 columns]"
            ]
          },
          "metadata": {},
          "execution_count": 6
        }
      ]
    },
    {
      "cell_type": "markdown",
      "metadata": {
        "id": "jOoKjWPwx51A"
      },
      "source": [
        "**Creating a new feature**\n"
      ]
    },
    {
      "cell_type": "code",
      "metadata": {
        "colab": {
          "base_uri": "https://localhost:8080/",
          "height": 147
        },
        "id": "2RJGOUWL2hGM",
        "outputId": "2c14011c-f21a-499a-c8fe-c2ec33011d35"
      },
      "source": [
        "Df['area_per_bedrooms']=Df['area']/Df['bedrooms']\n",
        "Df['bathrooms_per_bedrooms']=Df['bathrooms']/Df['bedrooms']\n",
        "\n",
        "Df.head(2)"
      ],
      "execution_count": null,
      "outputs": [
        {
          "output_type": "execute_result",
          "data": {
            "text/html": [
              "<div>\n",
              "<style scoped>\n",
              "    .dataframe tbody tr th:only-of-type {\n",
              "        vertical-align: middle;\n",
              "    }\n",
              "\n",
              "    .dataframe tbody tr th {\n",
              "        vertical-align: top;\n",
              "    }\n",
              "\n",
              "    .dataframe thead th {\n",
              "        text-align: right;\n",
              "    }\n",
              "</style>\n",
              "<table border=\"1\" class=\"dataframe\">\n",
              "  <thead>\n",
              "    <tr style=\"text-align: right;\">\n",
              "      <th></th>\n",
              "      <th>price</th>\n",
              "      <th>area</th>\n",
              "      <th>bedrooms</th>\n",
              "      <th>bathrooms</th>\n",
              "      <th>stories</th>\n",
              "      <th>parking</th>\n",
              "      <th>mainroad_yes</th>\n",
              "      <th>guestroom_yes</th>\n",
              "      <th>basement_yes</th>\n",
              "      <th>hotwaterheating_yes</th>\n",
              "      <th>airconditioning_yes</th>\n",
              "      <th>prefarea_yes</th>\n",
              "      <th>furnishingstatus_semi-furnished</th>\n",
              "      <th>furnishingstatus_unfurnished</th>\n",
              "      <th>area_per_bedrooms</th>\n",
              "      <th>bathrooms_per_bedrooms</th>\n",
              "    </tr>\n",
              "  </thead>\n",
              "  <tbody>\n",
              "    <tr>\n",
              "      <th>0</th>\n",
              "      <td>13300000</td>\n",
              "      <td>7420</td>\n",
              "      <td>4</td>\n",
              "      <td>2</td>\n",
              "      <td>3</td>\n",
              "      <td>2</td>\n",
              "      <td>1</td>\n",
              "      <td>0</td>\n",
              "      <td>0</td>\n",
              "      <td>0</td>\n",
              "      <td>1</td>\n",
              "      <td>1</td>\n",
              "      <td>0</td>\n",
              "      <td>0</td>\n",
              "      <td>1855.0</td>\n",
              "      <td>0.5</td>\n",
              "    </tr>\n",
              "    <tr>\n",
              "      <th>1</th>\n",
              "      <td>12250000</td>\n",
              "      <td>8960</td>\n",
              "      <td>4</td>\n",
              "      <td>4</td>\n",
              "      <td>4</td>\n",
              "      <td>3</td>\n",
              "      <td>1</td>\n",
              "      <td>0</td>\n",
              "      <td>0</td>\n",
              "      <td>0</td>\n",
              "      <td>1</td>\n",
              "      <td>0</td>\n",
              "      <td>0</td>\n",
              "      <td>0</td>\n",
              "      <td>2240.0</td>\n",
              "      <td>1.0</td>\n",
              "    </tr>\n",
              "  </tbody>\n",
              "</table>\n",
              "</div>"
            ],
            "text/plain": [
              "      price  area  ...  area_per_bedrooms  bathrooms_per_bedrooms\n",
              "0  13300000  7420  ...             1855.0                     0.5\n",
              "1  12250000  8960  ...             2240.0                     1.0\n",
              "\n",
              "[2 rows x 16 columns]"
            ]
          },
          "metadata": {},
          "execution_count": 7
        }
      ]
    },
    {
      "cell_type": "code",
      "metadata": {
        "colab": {
          "base_uri": "https://localhost:8080/",
          "height": 566
        },
        "id": "eCpytbki-lWZ",
        "outputId": "1c77bef3-40d6-4493-80de-a6f686e19d11"
      },
      "source": [
        "import seaborn as sns\n",
        "\n",
        "list=['price','area','area_per_bedrooms']\n",
        "sns.pairplot(Df[list], kind='scatter',diag_kind='kde')"
      ],
      "execution_count": null,
      "outputs": [
        {
          "output_type": "execute_result",
          "data": {
            "text/plain": [
              "<seaborn.axisgrid.PairGrid at 0x7f4c6b91d050>"
            ]
          },
          "metadata": {},
          "execution_count": 8
        },
        {
          "output_type": "display_data",
          "data": {
            "image/png": "[encoded data removed]",
            "text/plain": [
              "<Figure size 540x540 with 12 Axes>"
            ]
          },
          "metadata": {
            "needs_background": "light"
          }
        }
      ]
    },
    {
      "cell_type": "code",
      "metadata": {
        "colab": {
          "base_uri": "https://localhost:8080/"
        },
        "id": "4WrBDvKG9XRZ",
        "outputId": "fe68003e-6530-4658-ac1a-bbe35521648d"
      },
      "source": [
        "Df.corr()['price'].sort_values(ascending=False)"
      ],
      "execution_count": null,
      "outputs": [
        {
          "output_type": "execute_result",
          "data": {
            "text/plain": [
              "price                              1.000000\n",
              "area                               0.535997\n",
              "bathrooms                          0.517545\n",
              "airconditioning_yes                0.452954\n",
              "stories                            0.420712\n",
              "parking                            0.384394\n",
              "bedrooms                           0.366494\n",
              "prefarea_yes                       0.329777\n",
              "mainroad_yes                       0.296898\n",
              "guestroom_yes                      0.255517\n",
              "area_per_bedrooms                  0.244809\n",
              "bathrooms_per_bedrooms             0.231732\n",
              "basement_yes                       0.187057\n",
              "hotwaterheating_yes                0.093073\n",
              "furnishingstatus_semi-furnished    0.063656\n",
              "furnishingstatus_unfurnished      -0.280587\n",
              "Name: price, dtype: float64"
            ]
          },
          "metadata": {},
          "execution_count": 9
        }
      ]
    },
    {
      "cell_type": "code",
      "metadata": {
        "colab": {
          "base_uri": "https://localhost:8080/",
          "height": 373
        },
        "id": "UJT-Q26W9jvT",
        "outputId": "28c42dcf-1e79-4de3-d916-eaeb0e4a495f"
      },
      "source": [
        "import seaborn as sns\n",
        "\n",
        "list=['price','area','bathrooms','airconditioning_yes','stories']\n",
        "sns.heatmap(Df[list].corr(), annot=True)"
      ],
      "execution_count": null,
      "outputs": [
        {
          "output_type": "execute_result",
          "data": {
            "text/plain": [
              "<matplotlib.axes._subplots.AxesSubplot at 0x7f4c60522f90>"
            ]
          },
          "metadata": {},
          "execution_count": 10
        },
        {
          "output_type": "display_data",
          "data": {
            "image/png": "[encoded data removed]",
            "text/plain": [
              "<Figure size 432x288 with 2 Axes>"
            ]
          },
          "metadata": {
            "needs_background": "light"
          }
        }
      ]
    },
    {
      "cell_type": "code",
      "metadata": {
        "colab": {
          "base_uri": "https://localhost:8080/"
        },
        "id": "5IGdPyHm_hmB",
        "outputId": "c9350294-d1d7-442c-b339-77865d6867ce"
      },
      "source": [
        "Df.info()"
      ],
      "execution_count": null,
      "outputs": [
        {
          "output_type": "stream",
          "name": "stdout",
          "text": [
            "<class 'pandas.core.frame.DataFrame'>\n",
            "RangeIndex: 545 entries, 0 to 544\n",
            "Data columns (total 16 columns):\n",
            " #   Column                           Non-Null Count  Dtype  \n",
            "---  ------                           --------------  -----  \n",
            " 0   price                            545 non-null    int64  \n",
            " 1   area                             545 non-null    int64  \n",
            " 2   bedrooms                         545 non-null    int64  \n",
            " 3   bathrooms                        545 non-null    int64  \n",
            " 4   stories                          545 non-null    int64  \n",
            " 5   parking                          545 non-null    int64  \n",
            " 6   mainroad_yes                     545 non-null    uint8  \n",
            " 7   guestroom_yes                    545 non-null    uint8  \n",
            " 8   basement_yes                     545 non-null    uint8  \n",
            " 9   hotwaterheating_yes              545 non-null    uint8  \n",
            " 10  airconditioning_yes              545 non-null    uint8  \n",
            " 11  prefarea_yes                     545 non-null    uint8  \n",
            " 12  furnishingstatus_semi-furnished  545 non-null    uint8  \n",
            " 13  furnishingstatus_unfurnished     545 non-null    uint8  \n",
            " 14  area_per_bedrooms                545 non-null    float64\n",
            " 15  bathrooms_per_bedrooms           545 non-null    float64\n",
            "dtypes: float64(2), int64(6), uint8(8)\n",
            "memory usage: 38.4 KB\n"
          ]
        }
      ]
    },
    {
      "cell_type": "markdown",
      "metadata": {
        "id": "Ef3qk6P_67FA"
      },
      "source": [
        "**3. Splitting data to train & test**"
      ]
    },
    {
      "cell_type": "code",
      "metadata": {
        "id": "LIPdL35p65nv"
      },
      "source": [
        "from sklearn.model_selection import train_test_split\n",
        "\n",
        "x=Df.drop('price',axis=1)\n",
        "y=Df['price'].copy()\n",
        "\n",
        "x_train0, x_test0, y_train, y_test = train_test_split(x,y,test_size=0.25)"
      ],
      "execution_count": null,
      "outputs": []
    },
    {
      "cell_type": "markdown",
      "metadata": {
        "id": "u9BoqCOB5ZG7"
      },
      "source": [
        "area, area_per_bedrooms feature columns have very different scale compare to others. let's do rescaling using StandardScaler or Normalizer or normalize."
      ]
    },
    {
      "cell_type": "code",
      "metadata": {
        "id": "-Nzqd5x64ykl"
      },
      "source": [
        "from sklearn.preprocessing  import MinMaxScaler\n",
        "\n",
        "scaler=MinMaxScaler()\n",
        "\n",
        "x_train=scaler.fit_transform(x_train0)\n",
        "x_test=scaler.transform(x_test0)"
      ],
      "execution_count": null,
      "outputs": []
    },
    {
      "cell_type": "code",
      "metadata": {
        "id": "e5hrG0a2EMo7"
      },
      "source": [
        "x_train=pd.DataFrame(x_train, columns=x_train0.columns)"
      ],
      "execution_count": null,
      "outputs": []
    },
    {
      "cell_type": "code",
      "metadata": {
        "id": "CGtCU0LNGXvT"
      },
      "source": [
        "x_test=pd.DataFrame(x_test, columns=x_test0.columns)"
      ],
      "execution_count": null,
      "outputs": []
    },
    {
      "cell_type": "markdown",
      "metadata": {
        "id": "6-y-UV0YEcUQ"
      },
      "source": [
        "**4. Model Selection using RFE OR RFECV**"
      ]
    },
    {
      "cell_type": "markdown",
      "metadata": {
        "id": "2N1arGIsBYv1"
      },
      "source": [
        "**RFE**\n",
        "\n",
        "class sklearn.feature_selection.RFE(estimator, *, n_features_to_select=None, step=1, verbose=0, importance_getter='auto')"
      ]
    },
    {
      "cell_type": "code",
      "metadata": {
        "colab": {
          "base_uri": "https://localhost:8080/"
        },
        "id": "FmAyS2J4BhDW",
        "outputId": "85fe80f3-4959-420e-cc3d-99a92a9798e5"
      },
      "source": [
        "x_train.shape"
      ],
      "execution_count": null,
      "outputs": [
        {
          "output_type": "execute_result",
          "data": {
            "text/plain": [
              "(408, 15)"
            ]
          },
          "metadata": {},
          "execution_count": 16
        }
      ]
    },
    {
      "cell_type": "code",
      "metadata": {
        "colab": {
          "base_uri": "https://localhost:8080/"
        },
        "id": "WpS-l40JBmtf",
        "outputId": "d69cfeb6-8441-4e05-f701-6ebc60816dae"
      },
      "source": [
        "from sklearn.linear_model import LinearRegression\n",
        "from sklearn.feature_selection import RFE\n",
        "\n",
        "lin_reg=LinearRegression()\n",
        "rfe=RFE(lin_reg)\n",
        "\n",
        "rfe.fit(x_train,y_train)"
      ],
      "execution_count": null,
      "outputs": [
        {
          "output_type": "execute_result",
          "data": {
            "text/plain": [
              "RFE(estimator=LinearRegression(copy_X=True, fit_intercept=True, n_jobs=None,\n",
              "                               normalize=False),\n",
              "    n_features_to_select=None, step=1, verbose=0)"
            ]
          },
          "metadata": {},
          "execution_count": 17
        }
      ]
    },
    {
      "cell_type": "code",
      "metadata": {
        "colab": {
          "base_uri": "https://localhost:8080/"
        },
        "id": "XMPAXB8yBqB4",
        "outputId": "622bced6-931b-436a-a8dc-a787f970511c"
      },
      "source": [
        "rfe.n_features_"
      ],
      "execution_count": null,
      "outputs": [
        {
          "output_type": "execute_result",
          "data": {
            "text/plain": [
              "7"
            ]
          },
          "metadata": {},
          "execution_count": 18
        }
      ]
    },
    {
      "cell_type": "code",
      "metadata": {
        "colab": {
          "base_uri": "https://localhost:8080/"
        },
        "id": "5bJGL_DVBsgC",
        "outputId": "0e90a318-fc18-48a6-9e20-a4a20884624e"
      },
      "source": [
        "rfe.support_"
      ],
      "execution_count": null,
      "outputs": [
        {
          "output_type": "execute_result",
          "data": {
            "text/plain": [
              "array([ True, False,  True,  True,  True, False, False, False, False,\n",
              "        True,  True, False, False, False,  True])"
            ]
          },
          "metadata": {},
          "execution_count": 19
        }
      ]
    },
    {
      "cell_type": "code",
      "metadata": {
        "colab": {
          "base_uri": "https://localhost:8080/"
        },
        "id": "k_8rzSDXBxt4",
        "outputId": "7498433d-b7c3-4623-f394-359709cb4830"
      },
      "source": [
        "rfe.ranking_"
      ],
      "execution_count": null,
      "outputs": [
        {
          "output_type": "execute_result",
          "data": {
            "text/plain": [
              "array([1, 8, 1, 1, 1, 6, 7, 3, 2, 1, 1, 9, 4, 5, 1])"
            ]
          },
          "metadata": {},
          "execution_count": 20
        }
      ]
    },
    {
      "cell_type": "code",
      "metadata": {
        "colab": {
          "base_uri": "https://localhost:8080/",
          "height": 510
        },
        "id": "Kb8iRSLTB0Ga",
        "outputId": "7265611c-b195-44c3-c09d-6bc9e34dbf96"
      },
      "source": [
        "pd.DataFrame(rfe.ranking_, index=x.columns)"
      ],
      "execution_count": null,
      "outputs": [
        {
          "output_type": "execute_result",
          "data": {
            "text/html": [
              "<div>\n",
              "<style scoped>\n",
              "    .dataframe tbody tr th:only-of-type {\n",
              "        vertical-align: middle;\n",
              "    }\n",
              "\n",
              "    .dataframe tbody tr th {\n",
              "        vertical-align: top;\n",
              "    }\n",
              "\n",
              "    .dataframe thead th {\n",
              "        text-align: right;\n",
              "    }\n",
              "</style>\n",
              "<table border=\"1\" class=\"dataframe\">\n",
              "  <thead>\n",
              "    <tr style=\"text-align: right;\">\n",
              "      <th></th>\n",
              "      <th>0</th>\n",
              "    </tr>\n",
              "  </thead>\n",
              "  <tbody>\n",
              "    <tr>\n",
              "      <th>area</th>\n",
              "      <td>1</td>\n",
              "    </tr>\n",
              "    <tr>\n",
              "      <th>bedrooms</th>\n",
              "      <td>8</td>\n",
              "    </tr>\n",
              "    <tr>\n",
              "      <th>bathrooms</th>\n",
              "      <td>1</td>\n",
              "    </tr>\n",
              "    <tr>\n",
              "      <th>stories</th>\n",
              "      <td>1</td>\n",
              "    </tr>\n",
              "    <tr>\n",
              "      <th>parking</th>\n",
              "      <td>1</td>\n",
              "    </tr>\n",
              "    <tr>\n",
              "      <th>mainroad_yes</th>\n",
              "      <td>6</td>\n",
              "    </tr>\n",
              "    <tr>\n",
              "      <th>guestroom_yes</th>\n",
              "      <td>7</td>\n",
              "    </tr>\n",
              "    <tr>\n",
              "      <th>basement_yes</th>\n",
              "      <td>3</td>\n",
              "    </tr>\n",
              "    <tr>\n",
              "      <th>hotwaterheating_yes</th>\n",
              "      <td>2</td>\n",
              "    </tr>\n",
              "    <tr>\n",
              "      <th>airconditioning_yes</th>\n",
              "      <td>1</td>\n",
              "    </tr>\n",
              "    <tr>\n",
              "      <th>prefarea_yes</th>\n",
              "      <td>1</td>\n",
              "    </tr>\n",
              "    <tr>\n",
              "      <th>furnishingstatus_semi-furnished</th>\n",
              "      <td>9</td>\n",
              "    </tr>\n",
              "    <tr>\n",
              "      <th>furnishingstatus_unfurnished</th>\n",
              "      <td>4</td>\n",
              "    </tr>\n",
              "    <tr>\n",
              "      <th>area_per_bedrooms</th>\n",
              "      <td>5</td>\n",
              "    </tr>\n",
              "    <tr>\n",
              "      <th>bathrooms_per_bedrooms</th>\n",
              "      <td>1</td>\n",
              "    </tr>\n",
              "  </tbody>\n",
              "</table>\n",
              "</div>"
            ],
            "text/plain": [
              "                                 0\n",
              "area                             1\n",
              "bedrooms                         8\n",
              "bathrooms                        1\n",
              "stories                          1\n",
              "parking                          1\n",
              "mainroad_yes                     6\n",
              "guestroom_yes                    7\n",
              "basement_yes                     3\n",
              "hotwaterheating_yes              2\n",
              "airconditioning_yes              1\n",
              "prefarea_yes                     1\n",
              "furnishingstatus_semi-furnished  9\n",
              "furnishingstatus_unfurnished     4\n",
              "area_per_bedrooms                5\n",
              "bathrooms_per_bedrooms           1"
            ]
          },
          "metadata": {},
          "execution_count": 21
        }
      ]
    },
    {
      "cell_type": "code",
      "metadata": {
        "id": "ODEjfR13B3OR"
      },
      "source": [
        "list=['bedrooms','mainroad_yes','guestroom_yes','basement_yes','hotwaterheating_yes',\n",
        "      'furnishingstatus_semi-furnished','furnishingstatus_unfurnished','area_per_bedrooms']\n",
        "\n",
        "x_train_rfe=x_train.drop(list,axis=1)\n",
        "\n",
        "x_test_rfe=x_test.drop(list,axis=1)"
      ],
      "execution_count": null,
      "outputs": []
    },
    {
      "cell_type": "markdown",
      "metadata": {
        "id": "0uoD0fHyB6Yh"
      },
      "source": [
        "sklearn.model_selection.cross_val_score(estimator, X, y=None, scoring=None, cv=None, n_jobs=None)"
      ]
    },
    {
      "cell_type": "code",
      "metadata": {
        "colab": {
          "base_uri": "https://localhost:8080/"
        },
        "id": "jjfTbwtDB9r6",
        "outputId": "0d28bb5f-7815-400f-865d-8e5f70748c95"
      },
      "source": [
        "from sklearn.model_selection import cross_val_score\n",
        "\n",
        "scores=cross_val_score(lin_reg,x_train_rfe,y_train,cv=10,scoring='neg_mean_squared_error')\n",
        "np.sqrt(-scores).mean().round(1), np.sqrt(-scores).std().round(1)"
      ],
      "execution_count": null,
      "outputs": [
        {
          "output_type": "execute_result",
          "data": {
            "text/plain": [
              "(1106778.8, 204755.4)"
            ]
          },
          "metadata": {},
          "execution_count": 23
        }
      ]
    },
    {
      "cell_type": "markdown",
      "metadata": {
        "id": "aPi6vtkafUcZ"
      },
      "source": [
        "**Hyperparameter Tuning Using Grid SearchCV** "
      ]
    },
    {
      "cell_type": "markdown",
      "metadata": {
        "id": "SA8EAIZQxMZL"
      },
      "source": [
        "class sklearn.model_selection.GridSearchCV(estimator, param_grid, *, scoring=None, n_jobs=None, refit=True, cv=None, verbose=0, pre_dispatch='2*n_jobs', error_score=nan, return_train_score=False)"
      ]
    },
    {
      "cell_type": "markdown",
      "metadata": {
        "id": "WzZ6n1uYxoUe"
      },
      "source": [
        "class sklearn.feature_selection.RFE(estimator, *, n_features_to_select=None, step=1, verbose=0, importance_getter='auto')"
      ]
    },
    {
      "cell_type": "code",
      "metadata": {
        "colab": {
          "base_uri": "https://localhost:8080/"
        },
        "id": "JHj0wbnOsTlt",
        "outputId": "4c51c3cd-d8ec-41e9-bab4-eec8a7c1f61c"
      },
      "source": [
        "from sklearn.model_selection import GridSearchCV\n",
        "from sklearn.linear_model import LinearRegression\n",
        "from sklearn.feature_selection import RFE\n",
        "\n",
        "lin_reg=LinearRegression()\n",
        "rfe=RFE(lin_reg)\n",
        "param_grid=[{'n_features_to_select':range(1,14)}]\n",
        "\n",
        "grid_search=GridSearchCV(rfe, param_grid, scoring='r2',\n",
        "                         cv=10,\n",
        "                         return_train_score=True)\n",
        "\n",
        "grid_search.fit(x_train_rfe, y_train)"
      ],
      "execution_count": null,
      "outputs": [
        {
          "output_type": "execute_result",
          "data": {
            "text/plain": [
              "GridSearchCV(cv=10, error_score=nan,\n",
              "             estimator=RFE(estimator=LinearRegression(copy_X=True,\n",
              "                                                      fit_intercept=True,\n",
              "                                                      n_jobs=None,\n",
              "                                                      normalize=False),\n",
              "                           n_features_to_select=None, step=1, verbose=0),\n",
              "             iid='deprecated', n_jobs=None,\n",
              "             param_grid=[{'n_features_to_select': range(1, 14)}],\n",
              "             pre_dispatch='2*n_jobs', refit=True, return_train_score=True,\n",
              "             scoring='r2', verbose=0)"
            ]
          },
          "metadata": {},
          "execution_count": 24
        }
      ]
    },
    {
      "cell_type": "code",
      "metadata": {
        "colab": {
          "base_uri": "https://localhost:8080/"
        },
        "id": "2SpWTPYIzX61",
        "outputId": "449ec859-0680-428e-e18f-0512290dff9d"
      },
      "source": [
        "grid_search.best_params_"
      ],
      "execution_count": null,
      "outputs": [
        {
          "output_type": "execute_result",
          "data": {
            "text/plain": [
              "{'n_features_to_select': 7}"
            ]
          },
          "metadata": {},
          "execution_count": 25
        }
      ]
    },
    {
      "cell_type": "code",
      "metadata": {
        "colab": {
          "base_uri": "https://localhost:8080/"
        },
        "id": "s3yquplv0bHD",
        "outputId": "5f63869d-14a5-4da6-fc9e-69fc6c45f6cf"
      },
      "source": [
        "grid_search.best_estimator_"
      ],
      "execution_count": null,
      "outputs": [
        {
          "output_type": "execute_result",
          "data": {
            "text/plain": [
              "RFE(estimator=LinearRegression(copy_X=True, fit_intercept=True, n_jobs=None,\n",
              "                               normalize=False),\n",
              "    n_features_to_select=7, step=1, verbose=0)"
            ]
          },
          "metadata": {},
          "execution_count": 26
        }
      ]
    },
    {
      "cell_type": "code",
      "metadata": {
        "colab": {
          "base_uri": "https://localhost:8080/",
          "height": 116
        },
        "id": "D58pUew20_hd",
        "outputId": "0da9a876-98f7-4702-aaef-93de6fd4532d"
      },
      "source": [
        "cv_res=pd.DataFrame(grid_search.cv_results_)\n",
        "cv_res.head(1)"
      ],
      "execution_count": null,
      "outputs": [
        {
          "output_type": "execute_result",
          "data": {
            "text/html": [
              "<div>\n",
              "<style scoped>\n",
              "    .dataframe tbody tr th:only-of-type {\n",
              "        vertical-align: middle;\n",
              "    }\n",
              "\n",
              "    .dataframe tbody tr th {\n",
              "        vertical-align: top;\n",
              "    }\n",
              "\n",
              "    .dataframe thead th {\n",
              "        text-align: right;\n",
              "    }\n",
              "</style>\n",
              "<table border=\"1\" class=\"dataframe\">\n",
              "  <thead>\n",
              "    <tr style=\"text-align: right;\">\n",
              "      <th></th>\n",
              "      <th>mean_fit_time</th>\n",
              "      <th>std_fit_time</th>\n",
              "      <th>mean_score_time</th>\n",
              "      <th>std_score_time</th>\n",
              "      <th>param_n_features_to_select</th>\n",
              "      <th>params</th>\n",
              "      <th>split0_test_score</th>\n",
              "      <th>split1_test_score</th>\n",
              "      <th>split2_test_score</th>\n",
              "      <th>split3_test_score</th>\n",
              "      <th>split4_test_score</th>\n",
              "      <th>split5_test_score</th>\n",
              "      <th>split6_test_score</th>\n",
              "      <th>split7_test_score</th>\n",
              "      <th>split8_test_score</th>\n",
              "      <th>split9_test_score</th>\n",
              "      <th>mean_test_score</th>\n",
              "      <th>std_test_score</th>\n",
              "      <th>rank_test_score</th>\n",
              "      <th>split0_train_score</th>\n",
              "      <th>split1_train_score</th>\n",
              "      <th>split2_train_score</th>\n",
              "      <th>split3_train_score</th>\n",
              "      <th>split4_train_score</th>\n",
              "      <th>split5_train_score</th>\n",
              "      <th>split6_train_score</th>\n",
              "      <th>split7_train_score</th>\n",
              "      <th>split8_train_score</th>\n",
              "      <th>split9_train_score</th>\n",
              "      <th>mean_train_score</th>\n",
              "      <th>std_train_score</th>\n",
              "    </tr>\n",
              "  </thead>\n",
              "  <tbody>\n",
              "    <tr>\n",
              "      <th>0</th>\n",
              "      <td>0.019413</td>\n",
              "      <td>0.009954</td>\n",
              "      <td>0.003955</td>\n",
              "      <td>0.004296</td>\n",
              "      <td>1</td>\n",
              "      <td>{'n_features_to_select': 1}</td>\n",
              "      <td>0.130767</td>\n",
              "      <td>0.137581</td>\n",
              "      <td>0.38587</td>\n",
              "      <td>0.379779</td>\n",
              "      <td>0.294354</td>\n",
              "      <td>-0.043108</td>\n",
              "      <td>0.32967</td>\n",
              "      <td>0.33499</td>\n",
              "      <td>0.274549</td>\n",
              "      <td>0.24012</td>\n",
              "      <td>0.246457</td>\n",
              "      <td>0.128134</td>\n",
              "      <td>13</td>\n",
              "      <td>0.328905</td>\n",
              "      <td>0.331804</td>\n",
              "      <td>0.307739</td>\n",
              "      <td>0.311856</td>\n",
              "      <td>0.300579</td>\n",
              "      <td>0.32105</td>\n",
              "      <td>0.313845</td>\n",
              "      <td>0.315223</td>\n",
              "      <td>0.320959</td>\n",
              "      <td>0.320031</td>\n",
              "      <td>0.317199</td>\n",
              "      <td>0.008926</td>\n",
              "    </tr>\n",
              "  </tbody>\n",
              "</table>\n",
              "</div>"
            ],
            "text/plain": [
              "   mean_fit_time  std_fit_time  ...  mean_train_score  std_train_score\n",
              "0       0.019413      0.009954  ...          0.317199         0.008926\n",
              "\n",
              "[1 rows x 31 columns]"
            ]
          },
          "metadata": {},
          "execution_count": 27
        }
      ]
    },
    {
      "cell_type": "code",
      "metadata": {
        "colab": {
          "base_uri": "https://localhost:8080/"
        },
        "id": "4eKa_VMK4CB9",
        "outputId": "4e4de9f4-c61a-4e17-bf02-7a028be6b9db"
      },
      "source": [
        "cv_res.columns"
      ],
      "execution_count": null,
      "outputs": [
        {
          "output_type": "execute_result",
          "data": {
            "text/plain": [
              "Index(['mean_fit_time', 'std_fit_time', 'mean_score_time', 'std_score_time',\n",
              "       'param_n_features_to_select', 'params', 'split0_test_score',\n",
              "       'split1_test_score', 'split2_test_score', 'split3_test_score',\n",
              "       'split4_test_score', 'split5_test_score', 'split6_test_score',\n",
              "       'split7_test_score', 'split8_test_score', 'split9_test_score',\n",
              "       'mean_test_score', 'std_test_score', 'rank_test_score',\n",
              "       'split0_train_score', 'split1_train_score', 'split2_train_score',\n",
              "       'split3_train_score', 'split4_train_score', 'split5_train_score',\n",
              "       'split6_train_score', 'split7_train_score', 'split8_train_score',\n",
              "       'split9_train_score', 'mean_train_score', 'std_train_score'],\n",
              "      dtype='object')"
            ]
          },
          "metadata": {},
          "execution_count": 28
        }
      ]
    },
    {
      "cell_type": "code",
      "metadata": {
        "colab": {
          "base_uri": "https://localhost:8080/",
          "height": 257
        },
        "id": "0xOlOGhM2_uR",
        "outputId": "71f50757-95c9-4fb8-8aba-119b727b390e"
      },
      "source": [
        "import matplotlib.pyplot as plt\n",
        "\n",
        "plt.figure(figsize=(5,3))\n",
        "plt.plot(cv_res['param_n_features_to_select'],cv_res['mean_train_score'])\n",
        "plt.plot(cv_res['param_n_features_to_select'],cv_res['mean_test_score'])\n",
        "\n",
        "plt.xlabel('number of features')\n",
        "plt.ylabel('r2')\n",
        "\n",
        "plt.title('number of features')\n",
        "plt.legend(['train_r2_score','test_r2_score'],loc='lower right')"
      ],
      "execution_count": null,
      "outputs": [
        {
          "output_type": "execute_result",
          "data": {
            "text/plain": [
              "<matplotlib.legend.Legend at 0x7f4c5a7e5850>"
            ]
          },
          "metadata": {},
          "execution_count": 29
        },
        {
          "output_type": "display_data",
          "data": {
            "image/png": "[encoded data removed]",
            "text/plain": [
              "<Figure size 360x216 with 1 Axes>"
            ]
          },
          "metadata": {
            "needs_background": "light"
          }
        }
      ]
    },
    {
      "cell_type": "markdown",
      "metadata": {
        "id": "GNJ9OTWN6kUw"
      },
      "source": [
        "we see 7 is a good optimal value of number of features and now we can build a final model."
      ]
    },
    {
      "cell_type": "markdown",
      "metadata": {
        "id": "rf5x3mJ8W2Df"
      },
      "source": [
        "**Making Predictions**\n"
      ]
    },
    {
      "cell_type": "code",
      "metadata": {
        "colab": {
          "base_uri": "https://localhost:8080/"
        },
        "id": "S50RUyN2CTon",
        "outputId": "34622126-7887-4f7e-8f6c-1aff3c427fb4"
      },
      "source": [
        "lin_reg.fit(x_train_rfe,y_train)\n"
      ],
      "execution_count": null,
      "outputs": [
        {
          "output_type": "execute_result",
          "data": {
            "text/plain": [
              "LinearRegression(copy_X=True, fit_intercept=True, n_jobs=None, normalize=False)"
            ]
          },
          "metadata": {},
          "execution_count": 30
        }
      ]
    },
    {
      "cell_type": "code",
      "metadata": {
        "id": "UMAgQs5OJzMy"
      },
      "source": [
        "y_pred=lin_reg.predict(x_test_rfe)"
      ],
      "execution_count": null,
      "outputs": []
    },
    {
      "cell_type": "code",
      "metadata": {
        "colab": {
          "base_uri": "https://localhost:8080/"
        },
        "id": "SLm8gYumJ1ib",
        "outputId": "b870a877-6c70-40c3-ae6c-84352b157852"
      },
      "source": [
        "from sklearn.metrics import mean_squared_error, r2_score\n",
        "\n",
        "mse=mean_squared_error(y_test, y_pred)\n",
        "rmse=np.sqrt(mse)\n",
        "\n",
        "r2=r2_score(y_test, y_pred)\n",
        "\n",
        "print('rmse:', rmse.round(1))\n",
        "print('r2_score:',r2.round(1))"
      ],
      "execution_count": null,
      "outputs": [
        {
          "output_type": "stream",
          "name": "stdout",
          "text": [
            "rmse: 1225069.1\n",
            "r2_score: 0.6\n"
          ]
        }
      ]
    },
    {
      "cell_type": "code",
      "metadata": {
        "colab": {
          "base_uri": "https://localhost:8080/"
        },
        "id": "bgs8zJtWJ8LQ",
        "outputId": "c6c05b29-8821-451b-93cc-278014aeb652"
      },
      "source": [
        "y_test.shape"
      ],
      "execution_count": null,
      "outputs": [
        {
          "output_type": "execute_result",
          "data": {
            "text/plain": [
              "(137,)"
            ]
          },
          "metadata": {},
          "execution_count": 33
        }
      ]
    },
    {
      "cell_type": "code",
      "metadata": {
        "colab": {
          "base_uri": "https://localhost:8080/",
          "height": 297
        },
        "id": "xCZ62ZJbJ_BS",
        "outputId": "006fb6be-edd4-4854-a43f-60148e0c5742"
      },
      "source": [
        "import matplotlib.pyplot as plt\n",
        "\n",
        "plt.plot(range(len(y_test)),y_test,color='y')\n",
        "plt.plot(range(len(y_test)),y_pred,color='r')\n",
        "\n",
        "plt.ylabel('error')\n",
        "plt.title('actual and predicted')"
      ],
      "execution_count": null,
      "outputs": [
        {
          "output_type": "execute_result",
          "data": {
            "text/plain": [
              "Text(0.5, 1.0, 'actual and predicted')"
            ]
          },
          "metadata": {},
          "execution_count": 34
        },
        {
          "output_type": "display_data",
          "data": {
            "image/png": "[encoded data removed]",
            "text/plain": [
              "<Figure size 432x288 with 1 Axes>"
            ]
          },
          "metadata": {
            "needs_background": "light"
          }
        }
      ]
    },
    {
      "cell_type": "code",
      "metadata": {
        "colab": {
          "base_uri": "https://localhost:8080/",
          "height": 297
        },
        "id": "iTR80A6gLGwM",
        "outputId": "db7d2608-beb2-4045-9c0c-9f831446f080"
      },
      "source": [
        "plt.scatter(range(len(y_test)),y_test,color='y')\n",
        "plt.scatter(range(len(y_test)),y_pred,color='r')\n",
        "\n",
        "plt.ylabel('error')\n",
        "plt.title('actual and predicted')"
      ],
      "execution_count": null,
      "outputs": [
        {
          "output_type": "execute_result",
          "data": {
            "text/plain": [
              "Text(0.5, 1.0, 'actual and predicted')"
            ]
          },
          "metadata": {},
          "execution_count": 35
        },
        {
          "output_type": "display_data",
          "data": {
            "image/png": "[encoded data removed]",
            "text/plain": [
              "<Figure size 432x288 with 1 Axes>"
            ]
          },
          "metadata": {
            "needs_background": "light"
          }
        }
      ]
    },
    {
      "cell_type": "code",
      "metadata": {
        "colab": {
          "base_uri": "https://localhost:8080/",
          "height": 297
        },
        "id": "Dv8EK-ndKqbA",
        "outputId": "42471c71-d473-4477-a434-3cf9f41388c7"
      },
      "source": [
        "plt.plot(range(len(y_test)), y_test-y_pred,color='b')\n",
        "plt.title('error')"
      ],
      "execution_count": null,
      "outputs": [
        {
          "output_type": "execute_result",
          "data": {
            "text/plain": [
              "Text(0.5, 1.0, 'error')"
            ]
          },
          "metadata": {},
          "execution_count": 36
        },
        {
          "output_type": "display_data",
          "data": {
            "image/png": "[encoded data removed]",
            "text/plain": [
              "<Figure size 432x288 with 1 Axes>"
            ]
          },
          "metadata": {
            "needs_background": "light"
          }
        }
      ]
    },
    {
      "cell_type": "markdown",
      "metadata": {
        "id": "DQhQ7QldLbcF"
      },
      "source": [
        "**Confidence Interval**\n",
        "\n",
        "scipy.stats.sem\n",
        "\n",
        "scipy.stats.sem(a, axis=0, ddof=1, nan_policy='propagate')\n",
        "\n",
        "Calculate the standard error of the mean of the values in the input array."
      ]
    },
    {
      "cell_type": "code",
      "metadata": {
        "colab": {
          "base_uri": "https://localhost:8080/"
        },
        "id": "apBVh8PJLa65",
        "outputId": "f77aa3c7-086a-4e96-cf70-253d597eb109"
      },
      "source": [
        "from scipy import stats\n",
        "\n",
        "confidence=0.95\n",
        "err=(y_pred-y_test)**2\n",
        "\n",
        "conf=stats.t.interval(confidence,len(err)-1,\n",
        "                 loc=err.mean(), scale=stats.sem(err))\n",
        "\n",
        "np.sqrt(conf).round(1)"
      ],
      "execution_count": null,
      "outputs": [
        {
          "output_type": "execute_result",
          "data": {
            "text/plain": [
              "array([ 946634.9, 1451024.2])"
            ]
          },
          "metadata": {},
          "execution_count": 37
        }
      ]
    },
    {
      "cell_type": "markdown",
      "metadata": {
        "id": "pX3200qHIE8A"
      },
      "source": [
        "**RFE plus Polynomial Regression**"
      ]
    },
    {
      "cell_type": "markdown",
      "metadata": {
        "id": "z0hp9F2RNAjq"
      },
      "source": [
        "polynomial regression of degree n\n",
        "\n",
        "y=β0+β1x1+β2x12+β3x13...+βnx1n\n",
        "\n",
        "we want to fit polynomials of various degrees on the housing data and compared their performance on train and test sets. In sklearn, polynomial features can be generated using the PolynomialFeatures class. Also, to perform LinearRegression and PolynomialFeatures in tandem, we will use the module sklearn_pipeline\n",
        "\n",
        "class sklearn.preprocessing.PolynomialFeatures(degree=2, *, interaction_only=False, include_bias=True, order='C')\n",
        "\n",
        "initialise y_train_pred and y_test_pred matrices to store the train and test predictions\n",
        "\n",
        "each row is a data point, each column a prediction using a polynomial of some degree"
      ]
    },
    {
      "cell_type": "code",
      "metadata": {
        "id": "yMmm7hWRcmN9"
      },
      "source": [
        "from sklearn.preprocessing import PolynomialFeatures\n",
        "from sklearn.pipeline import make_pipeline"
      ],
      "execution_count": null,
      "outputs": []
    },
    {
      "cell_type": "markdown",
      "metadata": {
        "id": "G8bdepFOft42"
      },
      "source": [
        "make_pipeline Construct a Pipeline from the given estimators."
      ]
    },
    {
      "cell_type": "markdown",
      "metadata": {
        "id": "__iGeU_ihVVH"
      },
      "source": [
        "class sklearn.preprocessing.PolynomialFeatures(degree=2, *, interaction_only=False, include_bias=True, order='C')"
      ]
    },
    {
      "cell_type": "code",
      "metadata": {
        "colab": {
          "base_uri": "https://localhost:8080/",
          "height": 202
        },
        "id": "TRFXEb63nMHV",
        "outputId": "6ca67e38-9395-4615-f873-18ba570147aa"
      },
      "source": [
        "df1 = df.loc[:, ['area', 'price']]\n",
        "df1.head()"
      ],
      "execution_count": null,
      "outputs": [
        {
          "output_type": "execute_result",
          "data": {
            "text/html": [
              "<div>\n",
              "<style scoped>\n",
              "    .dataframe tbody tr th:only-of-type {\n",
              "        vertical-align: middle;\n",
              "    }\n",
              "\n",
              "    .dataframe tbody tr th {\n",
              "        vertical-align: top;\n",
              "    }\n",
              "\n",
              "    .dataframe thead th {\n",
              "        text-align: right;\n",
              "    }\n",
              "</style>\n",
              "<table border=\"1\" class=\"dataframe\">\n",
              "  <thead>\n",
              "    <tr style=\"text-align: right;\">\n",
              "      <th></th>\n",
              "      <th>area</th>\n",
              "      <th>price</th>\n",
              "    </tr>\n",
              "  </thead>\n",
              "  <tbody>\n",
              "    <tr>\n",
              "      <th>0</th>\n",
              "      <td>7420</td>\n",
              "      <td>13300000</td>\n",
              "    </tr>\n",
              "    <tr>\n",
              "      <th>1</th>\n",
              "      <td>8960</td>\n",
              "      <td>12250000</td>\n",
              "    </tr>\n",
              "    <tr>\n",
              "      <th>2</th>\n",
              "      <td>9960</td>\n",
              "      <td>12250000</td>\n",
              "    </tr>\n",
              "    <tr>\n",
              "      <th>3</th>\n",
              "      <td>7500</td>\n",
              "      <td>12215000</td>\n",
              "    </tr>\n",
              "    <tr>\n",
              "      <th>4</th>\n",
              "      <td>7420</td>\n",
              "      <td>11410000</td>\n",
              "    </tr>\n",
              "  </tbody>\n",
              "</table>\n",
              "</div>"
            ],
            "text/plain": [
              "   area     price\n",
              "0  7420  13300000\n",
              "1  8960  12250000\n",
              "2  9960  12250000\n",
              "3  7500  12215000\n",
              "4  7420  11410000"
            ]
          },
          "metadata": {},
          "execution_count": 39
        }
      ]
    },
    {
      "cell_type": "code",
      "metadata": {
        "colab": {
          "base_uri": "https://localhost:8080/"
        },
        "id": "rL6c5R3TnOkF",
        "outputId": "7743a2a9-9cf3-4916-f712-2989670c7bdf"
      },
      "source": [
        "df1['area'].max(), df1['price'].max()"
      ],
      "execution_count": null,
      "outputs": [
        {
          "output_type": "execute_result",
          "data": {
            "text/plain": [
              "(16200, 13300000)"
            ]
          },
          "metadata": {},
          "execution_count": 40
        }
      ]
    },
    {
      "cell_type": "code",
      "metadata": {
        "colab": {
          "base_uri": "https://localhost:8080/"
        },
        "id": "UhspsTSNnEQm",
        "outputId": "c3fb25b8-455e-4179-d1bb-5c4e9d432806"
      },
      "source": [
        "df_train, df_test = train_test_split(df1, \n",
        "                                     train_size = 0.7, \n",
        "                                     test_size = 0.3, \n",
        "                                     random_state = 10)\n",
        "print(len(df_train))\n",
        "print(len(df_test))"
      ],
      "execution_count": null,
      "outputs": [
        {
          "output_type": "stream",
          "name": "stdout",
          "text": [
            "381\n",
            "164\n"
          ]
        }
      ]
    },
    {
      "cell_type": "code",
      "metadata": {
        "id": "ssrae2sgnBeb"
      },
      "source": [
        "x_train = df_train['area'].values.reshape(-1, 1)\n",
        "y_train = df_train['price']\n",
        "\n",
        "x_test = df_test['area'].values.reshape(-1, 1)\n",
        "y_test = df_test['price']"
      ],
      "execution_count": null,
      "outputs": []
    },
    {
      "cell_type": "markdown",
      "metadata": {
        "id": "OOWzPR7IiVst"
      },
      "source": [
        "numpy.zeros(shape, dtype=float)\n",
        "\n",
        "Return a new array of given shape and type, filled with zeros."
      ]
    },
    {
      "cell_type": "code",
      "metadata": {
        "id": "1V_K00LodOnf"
      },
      "source": [
        "degrees=[1,2,3]\n",
        "\n",
        "# initialise y_train_pred and y_test_pred matrices to store the train and test predictions\n",
        "# each row is a data point, each column a prediction using a polynomial of some degree\n",
        "y_train_pred= np.zeros((len(x_train), len(degrees)))\n",
        "y_test_pred= np.zeros((len(x_test), len(degrees)))\n",
        "\n",
        "for i, degree in enumerate(degrees):\n",
        "  pipe=make_pipeline(PolynomialFeatures(degree),LinearRegression())\n",
        "  pipe.fit(x_train, y_train)\n",
        "\n",
        "  # store the predictions of each degree in the corresponding column\n",
        "  y_train_pred[:,i]=pipe.predict(x_train)\n",
        "  y_test_pred[:,i]=pipe.predict(x_test)\n"
      ],
      "execution_count": null,
      "outputs": []
    },
    {
      "cell_type": "markdown",
      "metadata": {
        "id": "G-5AQ7Jdjv6L"
      },
      "source": [
        "visualise train and test predictions\n",
        ", y axis is on a log scale"
      ]
    },
    {
      "cell_type": "code",
      "metadata": {
        "colab": {
          "base_uri": "https://localhost:8080/"
        },
        "id": "4_VVjoMCmkEi",
        "outputId": "842d3da0-6b0a-45d4-85f1-a4d31ea3de45"
      },
      "source": [
        "x_train.shape, y_train.shape"
      ],
      "execution_count": null,
      "outputs": [
        {
          "output_type": "execute_result",
          "data": {
            "text/plain": [
              "((381, 1), (381,))"
            ]
          },
          "metadata": {},
          "execution_count": 44
        }
      ]
    },
    {
      "cell_type": "code",
      "metadata": {
        "colab": {
          "base_uri": "https://localhost:8080/",
          "height": 347
        },
        "id": "Y8hGlBRcoUi7",
        "outputId": "a6e44d88-e4a2-48ba-9459-b1610b5f04aa"
      },
      "source": [
        "# visualise train and test predictions\n",
        "# note that the y axis is on a log scale\n",
        "\n",
        "plt.figure(figsize=(16, 8))\n",
        "\n",
        "# train data\n",
        "plt.subplot(121)\n",
        "plt.scatter(x_train, y_train)\n",
        "plt.yscale('log')\n",
        "plt.title(\"Train data\")\n",
        "for i, degree in enumerate(degrees):    \n",
        "    plt.scatter(x_train, y_train_pred[:, i], s=15, label=str(degree))\n",
        "    plt.legend(loc='upper left')\n",
        "    \n",
        "\n",
        "# test data\n",
        "plt.subplot(122)\n",
        "plt.scatter(x_test, y_test)\n",
        "plt.yscale('log')\n",
        "plt.title(\"Test data\")\n",
        "for i, degree in enumerate(degrees):    \n",
        "    plt.scatter(x_test, y_test_pred[:, i], label=str(degree))\n",
        "    plt.legend(loc='upper left')"
      ],
      "execution_count": null,
      "outputs": [
        {
          "output_type": "display_data",
          "data": {
            "image/png": "[encoded data removed]",
            "text/plain": [
              "<Figure size 1152x576 with 2 Axes>"
            ]
          },
          "metadata": {
            "needs_background": "light"
          }
        }
      ]
    },
    {
      "cell_type": "code",
      "metadata": {
        "id": "LQlqXAKSxQPq"
      },
      "source": [
        "from sklearn.metrics import r2_score"
      ],
      "execution_count": null,
      "outputs": []
    },
    {
      "cell_type": "markdown",
      "metadata": {
        "id": "OtsGx2mmymZS"
      },
      "source": [
        "compare r2 for train and test sets (for all polynomial fits)"
      ]
    },
    {
      "cell_type": "code",
      "metadata": {
        "colab": {
          "base_uri": "https://localhost:8080/"
        },
        "id": "o0x9d7aixCSR",
        "outputId": "6572c066-5fbb-4b1d-92c1-7c3a51b4a1ba"
      },
      "source": [
        "print(\"R-squared values: \\n\")\n",
        "\n",
        "for i, degree in enumerate(degrees):\n",
        "    train_r2 = round(r2_score(y_train, y_train_pred[:, i]), 2)\n",
        "    test_r2 = round(r2_score(y_test, y_test_pred[:, i]), 2)\n",
        "    print(\"Polynomial degree {0}: train score={1}, test score={2}\".format(degree, \n",
        "                                                                         train_r2, \n",
        "                                                                         test_r2))"
      ],
      "execution_count": null,
      "outputs": [
        {
          "output_type": "stream",
          "name": "stdout",
          "text": [
            "R-squared values: \n",
            "\n",
            "Polynomial degree 1: train score=0.29, test score=0.25\n",
            "Polynomial degree 2: train score=0.34, test score=0.22\n",
            "Polynomial degree 3: train score=0.34, test score=0.22\n"
          ]
        }
      ]
    }
  ]
}